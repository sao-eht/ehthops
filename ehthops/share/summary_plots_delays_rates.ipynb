{
 "cells": [
  {
   "cell_type": "markdown",
   "id": "e938b404",
   "metadata": {},
   "source": [
    "# Baseline delays and rates\n",
    "\n",
    "[L. Blackburn, Sep 2018; rewritten for Python 3.9, Dec 2022]\n",
    "\n",
    "The purpose of this test is to check continuity of delay and rate solutions. Fringe delay and rate should be relatively smooth from scan to scan, and outliers indicate some issue with the fringe solution."
   ]
  },
  {
   "cell_type": "code",
   "execution_count": null,
   "id": "73f0372b",
   "metadata": {},
   "outputs": [],
   "source": [
    "# basic import and helper functions\n",
    "import pandas as pd\n",
    "from eat.io import hops, util\n",
    "from eat.hops import util as hu\n",
    "from eat.plots import util as pu\n",
    "import matplotlib.pyplot as plt\n",
    "import numpy as np\n",
    "import os\n",
    "import sys\n",
    "import seaborn as sns\n",
    "\n",
    "sns.reset_orig()\n",
    "# sns.set_palette(sns.color_palette(sns.hls_palette(16, l=.6, s=.6)))\n",
    "%matplotlib inline\n",
    "%config InlineBackend.figure_format = 'retina'\n",
    "# %config InlineBackend.figure_formats=['svg']\n",
    "\n",
    "nb_stdout = sys.stdout # grab for later\n",
    "\n",
    "def wide(w=8, h=3): plt.setp(plt.gcf(), figwidth=w, figheight=h); \\\n",
    "    plt.tight_layout()\n",
    "\n",
    "def tightx(): plt.autoscale(enable=True, axis='x', tight=True)\n",
    "\n",
    "def multline(xs, fun=plt.axvline):\n",
    "    for x in xs: fun(x, alpha=0.25, ls='--', color='k')\n",
    "\n",
    "def toiter(x):\n",
    "    return(x if hasattr(x, '__iter__') else [x,])\n",
    "\n",
    "# pd.options.display.float_format = '{:,.6f}'.format\n",
    "from IPython.display import display, HTML\n",
    "display(HTML(\"<style>\"\n",
    "    + \"#notebook { padding-top:0px !important; } \" \n",
    "    + \".container { width:100% !important; } \"\n",
    "    + \".end_space { min-height:0px !important; } \"\n",
    "    + \"</style>\"))"
   ]
  },
  {
   "cell_type": "code",
   "execution_count": null,
   "id": "828f1faa",
   "metadata": {},
   "outputs": [],
   "source": [
    "# define and load data\n",
    "alistf = \"alist.v6\"\n",
    "datadir = os.environ['DATADIR']\n",
    "\n",
    "a = util.noauto(hops.read_alist(os.path.join(datadir, alistf)))\n",
    "\n",
    "# Pre-process alist dataframe\n",
    "util.fix(a)\n",
    "util.unwrap_mbd(a)\n",
    "util.add_days(a)\n",
    "util.add_delayerr(a)\n",
    "util.add_path(a)\n",
    "util.add_scanno(a)"
   ]
  },
  {
   "cell_type": "code",
   "execution_count": null,
   "id": "7462ed90",
   "metadata": {},
   "outputs": [],
   "source": [
    "# data filters -- remove SMAR-SMAW baselines (only applicable to EHT2017 data)\n",
    "thres = 7.0\n",
    "a = a[(a.snr > thres) & ~a.baseline.isin({'RS', 'SR'})].copy()"
   ]
  },
  {
   "cell_type": "code",
   "execution_count": null,
   "id": "77457e10",
   "metadata": {},
   "outputs": [],
   "source": [
    "# Compute the boundaries between expt_nos\n",
    "sorted_a = a.sort_values(['expt_no', 'scan_no'])\n",
    "last_scans = sorted_a.groupby('expt_no')['scan_no'].max() # Find the 'max' scan_no for each expt_no\n",
    "elines = (last_scans.iloc[:-1] + 0.5).to_numpy() # Drop the final expt_no and offset by 0.5"
   ]
  },
  {
   "cell_type": "code",
   "execution_count": null,
   "id": "dbfbf751",
   "metadata": {},
   "outputs": [],
   "source": [
    "# Plotting the delays by iterating over sites\n",
    "sites = sorted(set(''.join(a.baseline)))\n",
    "for (i, site) in enumerate(sites):\n",
    "    hu.trendplot(a, site, vlines=elines, col='mbd_unwrap')\n",
    "    plt.title('measured delays [ns @ %.0f MHz]' % (a.iloc[0].ref_freq))\n",
    "    wide(12, 4)\n",
    "    plt.show()"
   ]
  },
  {
   "cell_type": "code",
   "execution_count": null,
   "id": "d5e9f8a4",
   "metadata": {},
   "outputs": [],
   "source": [
    "# Plotting the rates by iterating over sites\n",
    "for (i, site) in enumerate(sites):\n",
    "    hu.trendplot(a, site, vlines=elines, col='delay_rate')\n",
    "    plt.title('measured rate [ps/s @ %.0f MHz]' % (a.iloc[0].ref_freq))\n",
    "    wide(12, 4)\n",
    "    plt.show()"
   ]
  }
 ],
 "metadata": {
  "celltoolbar": "Tags",
  "kernelspec": {
   "display_name": "Python 3 (ipykernel)",
   "language": "python",
   "name": "python3"
  },
  "language_info": {
   "codemirror_mode": {
    "name": "ipython",
    "version": 3
   },
   "file_extension": ".py",
   "mimetype": "text/x-python",
   "name": "python",
   "nbconvert_exporter": "python",
   "pygments_lexer": "ipython3",
   "version": "3.10.11"
  }
 },
 "nbformat": 4,
 "nbformat_minor": 5
}
