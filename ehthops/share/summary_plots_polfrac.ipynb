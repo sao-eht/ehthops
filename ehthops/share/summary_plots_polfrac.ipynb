{
 "cells": [
  {
   "cell_type": "markdown",
   "id": "02f85c09",
   "metadata": {},
   "source": [
    "# polarization fraction tests\n",
    "\n",
    "[L. Blackburn, Sep 2018; rewritten for Python 3.9, Dec 2022]\n",
    "\n",
    "The purpose of this test is to check stability of polarization fraction on various baselines. The test is sensitive to leakage and false fringes."
   ]
  },
  {
   "cell_type": "code",
   "execution_count": null,
   "id": "acf00f57",
   "metadata": {},
   "outputs": [],
   "source": [
    "# basic import and helper functions\n",
    "import pandas as pd\n",
    "from eat.io import hops, util\n",
    "from eat.hops import util as hu\n",
    "from eat.plots import util as pu\n",
    "import itertools\n",
    "import matplotlib.pyplot as plt\n",
    "import numpy as np\n",
    "import os\n",
    "import sys\n",
    "import seaborn as sns\n",
    "from matplotlib.legend import Legend\n",
    "\n",
    "sns.reset_orig()\n",
    "# sns.set_palette(sns.color_palette(sns.hls_palette(16, l=.6, s=.6)))\n",
    "%matplotlib inline\n",
    "%config InlineBackend.figure_format = 'retina'\n",
    "# %config InlineBackend.figure_formats=['svg']\n",
    "\n",
    "nb_stdout = sys.stdout # grab for later\n",
    "\n",
    "def wide(w=8, h=3): plt.setp(plt.gcf(), figwidth=w, figheight=h); \\\n",
    "    plt.tight_layout()\n",
    "\n",
    "def tightx(): plt.autoscale(enable=True, axis='x', tight=True)\n",
    "\n",
    "def multline(xs, fun=plt.axvline):\n",
    "    for x in xs: fun(x, alpha=0.25, ls='--', color='k')\n",
    "\n",
    "def toiter(x):\n",
    "    return(x if hasattr(x, '__iter__') else [x,])\n",
    "# pd.options.display.float_format = '{:,.6f}'.format\n",
    "from IPython.display import display, HTML\n",
    "display(HTML(\"<style>\"\n",
    "    + \"#notebook { padding-top:0px !important; } \" \n",
    "    + \".container { width:100% !important; } \"\n",
    "    + \".end_space { min-height:0px !important; } \"\n",
    "    + \"</style>\"))"
   ]
  },
  {
   "cell_type": "code",
   "execution_count": null,
   "id": "9c874017",
   "metadata": {},
   "outputs": [],
   "source": [
    "# define and load data\n",
    "alistf = 'alist.v6'\n",
    "datadir = os.environ['DATADIR']\n",
    "\n",
    "a = util.noauto(hops.read_alist(os.path.join(datadir, alistf)))\n",
    "\n",
    "# Pre-process the alist dataframe\n",
    "util.fix(a)\n",
    "util.unwrap_mbd(a)\n",
    "util.add_days(a)\n",
    "util.add_delayerr(a)\n",
    "util.add_path(a)\n",
    "util.add_scanno(a)\n",
    "util.add_gmst(a)\n",
    "\n",
    "days = sorted(set(a.expt_no))"
   ]
  },
  {
   "cell_type": "code",
   "execution_count": null,
   "id": "f98aedf9",
   "metadata": {},
   "outputs": [],
   "source": [
    "# data filters\n",
    "snr_cutoff = 7 # reasonable SNR cutoff for filtering\n",
    "a = a[(a.snr > snr_cutoff) & ~a.baseline.str.contains('R')]"
   ]
  },
  {
   "cell_type": "code",
   "execution_count": null,
   "id": "9426641e",
   "metadata": {},
   "outputs": [],
   "source": [
    "# Compute the boundaries between expt_nos\n",
    "sorted_a = a.sort_values(['expt_no', 'scan_no'])\n",
    "last_scans = sorted_a.groupby('expt_no')['scan_no'].max() # Find the 'max' scan_no for each expt_no\n",
    "elines = (last_scans.iloc[:-1] + 0.5).to_numpy() # Drop the final expt_no and offset by 0.5"
   ]
  },
  {
   "cell_type": "code",
   "execution_count": null,
   "id": "c8b2cbd4",
   "metadata": {},
   "outputs": [],
   "source": [
    "# show all output in cell\n",
    "from IPython.core.interactiveshell import InteractiveShell\n",
    "InteractiveShell.ast_node_interactivity = \"all\""
   ]
  },
  {
   "cell_type": "markdown",
   "id": "de2423fb",
   "metadata": {},
   "source": [
    "For all rows uniquely identified by *index_cols*, we compute the polarization fraction (and its error) using the corresponding SNR values for each polarization product. Entries in the alist file for which all four polarization products are not present are ignored."
   ]
  },
  {
   "cell_type": "code",
   "execution_count": null,
   "id": "441ae893",
   "metadata": {},
   "outputs": [],
   "source": [
    "index_cols = \"expt_no scan_no gmst timetag baseline source u v\".split()\n",
    "\n",
    "p = a.pivot_table(aggfunc='first', index=index_cols,\n",
    "    columns=['polarization'], values=['snr']).dropna()\n",
    "\n",
    "p['fpol'] = np.sqrt((p.snr.LR * p.snr.RL) / (p.snr.LL * p.snr.RR))\n",
    "p['fpol_err'] = np.sqrt(2. / (p.snr.LL * p.snr.RR))\n",
    "\n",
    "q = p.reset_index()"
   ]
  },
  {
   "cell_type": "markdown",
   "id": "39976de0",
   "metadata": {},
   "source": [
    "Define functions for plotting the polarization fraction for a given source against time (GMST) and uv-coverage."
   ]
  },
  {
   "cell_type": "code",
   "execution_count": null,
   "id": "953a80ce",
   "metadata": {},
   "outputs": [],
   "source": [
    "def pftrend(b, src):\n",
    "    df = b[b.source == src].copy()\n",
    "\n",
    "    # Ensure that the GMST is in the range 0-24 hours\n",
    "    t = np.hstack((df.gmst.sort_values().values, df.gmst.sort_values().values + 24.))\n",
    "    idx = np.argmax(np.diff(t))\n",
    "    toff = np.fmod(48. - 0.5 * (t[idx] + t[1+idx]), 24.)\n",
    "    df['gmst'] = np.fmod(df.gmst + toff, 24.) - toff\n",
    "    if df.gmst.max() < 0:\n",
    "        df.gmst += 24\n",
    "\n",
    "    # Assign unique colour to each baseline\n",
    "    ax = None\n",
    "    blc = dict(zip(sorted(set(df.baseline)),\n",
    "                   itertools.cycle(plt.rcParams['axes.prop_cycle'].by_key()['color'])))\n",
    "    \n",
    "    lnum = 1e6\n",
    "    for(i, day) in enumerate(days):\n",
    "        ax = plt.subplot(1, len(days), 1+i, sharey=ax, sharex=ax)\n",
    "\n",
    "        dayrows = df[df.expt_no == day]\n",
    "\n",
    "        # Remember the axis with the fewest rows for placing the legend\n",
    "        if len(dayrows) < lnum:\n",
    "            (lax, lnum) = (ax, len(dayrows))\n",
    "\n",
    "        if i > 0:\n",
    "            _ = plt.setp(ax.get_yticklabels(), visible=False)\n",
    "\n",
    "        for (bl, blrows) in dayrows.groupby('baseline'):\n",
    "            h = plt.errorbar(blrows.gmst, blrows.fpol, blrows.fpol_err, fmt='.', color=blc[bl], label='_nolegend_') # plot data with errorbars\n",
    "            _ = plt.plot(blrows.gmst, blrows.fpol, '-', color=h[0].get_color(), alpha=0.25, label='_nolegend_') # plot a line through the data\n",
    "\n",
    "        ax.grid(axis='y', alpha=0.25)\n",
    "\n",
    "    lines = [plt.Line2D([0], [0], color=blc[bl], marker='.', ls='none') for bl in sorted(blc.keys())]\n",
    "    leg = Legend(lax, lines, sorted(blc.keys()), loc='best', ncol=2)\n",
    "    _ = lax.add_artist(leg)\n",
    "    wide(12, 4)\n",
    "\n",
    "    plt.subplots_adjust(hspace=0, wspace=0)\n",
    "    _ = plt.suptitle('%s fractional polarization vs GMST' % src, y=plt.gcf().subplotpars.top, va='bottom')"
   ]
  },
  {
   "cell_type": "code",
   "execution_count": null,
   "id": "d255939d",
   "metadata": {},
   "outputs": [],
   "source": [
    "def pfuv(b, src, cmap='jet'):\n",
    "    df = b[b.source == src].sort_values('fpol')\n",
    "\n",
    "    ax = None\n",
    "    lim = 1.1e-3 * max(df.u.abs().max(), df.v.abs().max())\n",
    "\n",
    "    for(i, day) in enumerate(days):\n",
    "        ax = plt.subplot(1, len(days), 1+i, sharey=ax, sharex=ax, aspect=1.0)\n",
    "\n",
    "        dayrows = df[df.expt_no == day]\n",
    "\n",
    "        if i > 0:\n",
    "            _ = plt.setp(ax.get_yticklabels(), visible=False)\n",
    "\n",
    "        _ = plt.scatter(1e-3 * dayrows.u, 1e-3 * dayrows.v, c=dayrows.fpol, cmap=cmap, vmin=0, vmax=1)\n",
    "        _ = plt.scatter(-1e-3 * dayrows.u, -1e-3 * dayrows.v, c=dayrows.fpol, cmap=cmap, vmin=0, vmax=1)\n",
    "        _ = plt.grid(which='both', ls='--', alpha=0.25)\n",
    "\n",
    "    wide(12, 3)\n",
    "\n",
    "    plt.xlim(-lim, lim)\n",
    "    plt.ylim(-lim, lim)\n",
    "    \n",
    "    plt.subplots_adjust(hspace=0, wspace=0)\n",
    "    _ = plt.suptitle('%s fractional polarization vs (u, v) [Gly]' %\n",
    "                     src, y=plt.gcf().subplotpars.top, va='bottom')"
   ]
  },
  {
   "cell_type": "markdown",
   "id": "5d46db25",
   "metadata": {},
   "source": [
    "For each source, plot the polarization fractions against\n",
    "\n",
    "1) GMST\n",
    "2) uv-coverage"
   ]
  },
  {
   "cell_type": "code",
   "execution_count": null,
   "id": "c835ad57",
   "metadata": {},
   "outputs": [],
   "source": [
    "for src in sorted(set(q.source)):\n",
    "    pftrend(q, src)\n",
    "    plt.show()\n",
    "    \n",
    "    pfuv(q, src, 'jet')\n",
    "    plt.show()"
   ]
  }
 ],
 "metadata": {
  "celltoolbar": "Tags",
  "kernelspec": {
   "display_name": "Python 3 (ipykernel)",
   "language": "python",
   "name": "python3"
  },
  "language_info": {
   "codemirror_mode": {
    "name": "ipython",
    "version": 3
   },
   "file_extension": ".py",
   "mimetype": "text/x-python",
   "name": "python",
   "nbconvert_exporter": "python",
   "pygments_lexer": "ipython3",
   "version": "3.10.11"
  }
 },
 "nbformat": 4,
 "nbformat_minor": 5
}
