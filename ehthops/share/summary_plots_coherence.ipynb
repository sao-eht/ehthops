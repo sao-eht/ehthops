{
 "cells": [
  {
   "cell_type": "markdown",
   "metadata": {},
   "source": [
    "# Coherence tests\n",
    "\n",
    "[L. Blackburn, Sep 2018]\n",
    "\n",
    "The purpose of this test is to check the degree of phase coherence on different baslines by calculating the amplitude loss using different coherent integration timescales. Poor phase coherence can be a result of low signal-to-noise and poor atmosphere, or an issue with ad-hoc phase correction."
   ]
  },
  {
   "cell_type": "code",
   "execution_count": null,
   "metadata": {},
   "outputs": [],
   "source": [
    "# basic import and helper functions\n",
    "import pandas as pd\n",
    "from eat.io import hops, util\n",
    "from eat.hops import util as hu\n",
    "from eat.plots import util as pu\n",
    "from collections import OrderedDict\n",
    "import itertools\n",
    "import matplotlib.pyplot as plt\n",
    "import numpy as np\n",
    "import os\n",
    "from matplotlib.ticker import MultipleLocator\n",
    "import seaborn as sns\n",
    "sns.reset_orig()\n",
    "# sns.set_palette(sns.color_palette(sns.hls_palette(16, l=.6, s=.6)))\n",
    "%matplotlib inline\n",
    "%config InlineBackend.figure_format = 'retina'\n",
    "# %config InlineBackend.figure_formats=['svg']\n",
    "import sys\n",
    "nb_stdout = sys.stdout # grab for later\n",
    "def wide(w=8, h=3): plt.setp(plt.gcf(), figwidth=w, figheight=h); \\\n",
    "    plt.tight_layout()\n",
    "def tightx(): plt.autoscale(enable=True, axis='x', tight=True)\n",
    "def multline(xs, fun=plt.axvline):\n",
    "    for x in xs: fun(x, alpha=0.25, ls='--', color='k')\n",
    "def toiter(x):\n",
    "    return(x if hasattr(x, '__iter__') else [x,])\n",
    "# pd.options.display.float_format = '{:,.6f}'.format\n",
    "from IPython.core.display import display, HTML\n",
    "display(HTML(\"<style>\"\n",
    "    + \"#notebook { padding-top:0px !important; } \" \n",
    "    + \".container { width:100% !important; } \"\n",
    "    + \".end_space { min-height:0px !important; } \"\n",
    "    + \"</style>\"))\n",
    "import string"
   ]
  },
  {
   "cell_type": "code",
   "execution_count": null,
   "metadata": {},
   "outputs": [],
   "source": [
    "os.getcwd()"
   ]
  },
  {
   "cell_type": "code",
   "execution_count": null,
   "metadata": {},
   "outputs": [],
   "source": [
    "# define and load data\n",
    "alist0 = 'alist.v6.2s.avg'\n",
    "alist1 = 'alist.v6.30s.avg'\n",
    "# stage = '5.+close'\n",
    "# datadir = '/data/2017-april/ce/er4test/hops-lo/%s/data/' % stage\n",
    "datadir = os.environ['DATADIR'] + '/'\n",
    "a0 = util.noauto(hops.read_alist(datadir + alist0))\n",
    "a1 = util.noauto(hops.read_alist(datadir + alist1))\n",
    "util.fix(a0)\n",
    "util.add_days(a0)\n",
    "util.add_path(a0)\n",
    "util.add_scanno(a0)\n",
    "util.fix(a1)\n",
    "util.add_days(a1)\n",
    "util.add_path(a1)\n",
    "util.add_scanno(a1) "
   ]
  },
  {
   "cell_type": "code",
   "execution_count": null,
   "metadata": {},
   "outputs": [],
   "source": [
    "a0 = a0[a0.polarization.isin({'RR', 'LL'})].set_index(\n",
    "    \"expt_no source scan_id baseline polarization\".split()).groupby(\n",
    "    'expt_no source scan_id baseline'.split()).mean()\n",
    "a1 = a1[a1.polarization.isin({'RR', 'LL'})].set_index(\n",
    "    \"expt_no source scan_id baseline polarization\".split()).groupby(\n",
    "    'expt_no source scan_id baseline'.split()).mean()\n",
    "a0['snr1'] = a1.snr\n",
    "a0['amp1'] = a1.amp\n",
    "a0['coh'] = a1.amp / a0.amp\n",
    "a = a0.reset_index().dropna()"
   ]
  },
  {
   "cell_type": "code",
   "execution_count": null,
   "metadata": {},
   "outputs": [],
   "source": [
    "plt.loglog(a.snr, a.coh, '.', ms=1)\n",
    "plt.axvline(7, color='k', ls='--', lw=2, alpha=0.25)\n",
    "plt.axhline(1, color='k', ls='--', lw=2, alpha=0.25)\n",
    "plt.ylim(.2, 2)\n",
    "plt.xlim(1, None)\n",
    "plt.xlabel('2s SNR')\n",
    "plt.ylabel('30s relative amplitude')\n",
    "wide(8, 4)"
   ]
  },
  {
   "cell_type": "code",
   "execution_count": null,
   "metadata": {},
   "outputs": [],
   "source": [
    "# data filters\n",
    "a = a[(a.snr > 7.) & ~a.baseline.isin({'RS', 'SR'}) & ~a.baseline.str.contains('R')]"
   ]
  },
  {
   "cell_type": "code",
   "execution_count": null,
   "metadata": {},
   "outputs": [],
   "source": [
    "# expt_no boundary ticker marks vs scan\n",
    "elines = a.scan_no.sort_values().values[np.nonzero(np.diff(a.expt_no.sort_values()) > 0)[0]] + 0.5"
   ]
  },
  {
   "cell_type": "code",
   "execution_count": null,
   "metadata": {},
   "outputs": [],
   "source": [
    "# show all output in cell\n",
    "from IPython.core.interactiveshell import InteractiveShell\n",
    "InteractiveShell.ast_node_interactivity = \"all\"\n",
    "pd.options.display.float_format = '{:,.2f}'.format"
   ]
  },
  {
   "cell_type": "code",
   "execution_count": null,
   "metadata": {
    "scrolled": false
   },
   "outputs": [],
   "source": [
    "bls = sorted(set(a.baseline))\n",
    "for site in set(''.join(set(a.baseline))):\n",
    "    b = a[a.baseline.str.contains(site)]\n",
    "    for (bl, rows) in b.groupby('baseline'):\n",
    "        i0 = rows.snr < 50\n",
    "        i1 = rows.snr >= 50\n",
    "        bl = bl if bl[1] == site else ''.join(bl[::-1])\n",
    "        h = plt.errorbar(rows[i1].scan_no, rows[i1].coh, yerr=1./rows[i1].snr,\n",
    "                         fmt='.', label='_nolegend_' if i1.sum() == 0 else bl, zorder=10)\n",
    "        _ = plt.errorbar(rows[i0].scan_no, rows[i0].coh, yerr=1./rows[i0].snr,\n",
    "                         fmt='.', label=bl if (i1.sum() == 0 and i0.sum() > 0) else '_nolegend_', color=h[0].get_color(), alpha=0.5)\n",
    "    multline(elines)\n",
    "    _ = plt.title('Coherence loss in 30 seconds [%.0f MHz]' % (b.iloc[0].ref_freq))\n",
    "    tightx()\n",
    "    _ = plt.xlim(0, plt.xlim()[1]*1.1)\n",
    "    _ = plt.grid(axis='y', alpha=0.25)\n",
    "    _ = plt.legend(loc='best')\n",
    "    outliers = b[(b.coh < 0.8) & (b.snr > 20)]\n",
    "    if len(outliers) > 0:\n",
    "        _ = plt.plot(outliers.scan_no, outliers.coh,\n",
    "                     'ko', ms=8, mfc='none', mew=2, zorder=-100)\n",
    "    wide(12, 4)\n",
    "    plt.show()\n",
    "    outliers[\"expt_no scan_id source baseline snr coh\".split()]"
   ]
  }
 ],
 "metadata": {
  "kernelspec": {
   "display_name": "Python 2",
   "language": "python2",
   "name": "python2"
  },
  "language_info": {
   "codemirror_mode": {
    "name": "ipython",
    "version": 2
   },
   "file_extension": ".py",
   "mimetype": "text/x-python",
   "name": "python",
   "nbconvert_exporter": "python",
   "pygments_lexer": "ipython2",
   "version": "2.7.15"
  }
 },
 "nbformat": 4,
 "nbformat_minor": 2
}
