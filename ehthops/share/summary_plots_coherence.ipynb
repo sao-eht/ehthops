{
 "cells": [
  {
   "cell_type": "markdown",
   "id": "2a93cc06",
   "metadata": {},
   "source": [
    "# Coherence tests\n",
    "\n",
    "[L. Blackburn, Sep 2018; rewritten for Python 3.9, Dec 2022]\n",
    "\n",
    "The purpose of this test is to check the degree of phase coherence on different baslines by calculating the amplitude loss using different coherent integration timescales. Poor phase coherence can be a result of low signal-to-noise and poor atmosphere, or an issue with ad-hoc phase correction."
   ]
  },
  {
   "cell_type": "code",
   "execution_count": null,
   "id": "b34fa976",
   "metadata": {},
   "outputs": [],
   "source": [
    "# basic import and helper functions\n",
    "import pandas as pd\n",
    "from eat.io import hops, util\n",
    "import matplotlib.pyplot as plt\n",
    "import os\n",
    "import sys\n",
    "import seaborn as sns\n",
    "\n",
    "sns.reset_orig()\n",
    "# sns.set_palette(sns.color_palette(sns.hls_palette(16, l=.6, s=.6)))\n",
    "%matplotlib inline\n",
    "%config InlineBackend.figure_format = 'retina'\n",
    "# %config InlineBackend.figure_formats=['svg']\n",
    "\n",
    "nb_stdout = sys.stdout # grab for later\n",
    "\n",
    "# helper functions\n",
    "def wide(w=8, h=3): plt.setp(plt.gcf(), figwidth=w, figheight=h); \\\n",
    "    plt.tight_layout()\n",
    "\n",
    "def tightx(): plt.autoscale(enable=True, axis='x', tight=True)\n",
    "\n",
    "def multline(xs, fun=plt.axvline):\n",
    "    for x in xs: fun(x, alpha=0.25, ls='--', color='k')\n",
    "\n",
    "def toiter(x):\n",
    "    return(x if hasattr(x, '__iter__') else [x,])\n",
    "\n",
    "# pd.options.display.float_format = '{:,.6f}'.format\n",
    "from IPython.display import display, HTML\n",
    "display(HTML(\"<style>\"\n",
    "    + \"#notebook { padding-top:0px !important; } \" \n",
    "    + \".container { width:100% !important; } \"\n",
    "    + \".end_space { min-height:0px !important; } \"\n",
    "    + \"</style>\"))"
   ]
  },
  {
   "cell_type": "code",
   "execution_count": null,
   "id": "9c423321",
   "metadata": {},
   "outputs": [],
   "source": [
    "# Define variables and load data\n",
    "alist0 = 'alist.v6.2s.avg'\n",
    "alist1 = 'alist.v6.30s.avg'\n",
    "datadir = os.environ['DATADIR']\n",
    "\n",
    "a0 = util.noauto(hops.read_alist(os.path.join(datadir, alist0)))\n",
    "a1 = util.noauto(hops.read_alist(os.path.join(datadir, alist1)))\n",
    "\n",
    "# Pre-process the alist files for easier manipulation\n",
    "util.fix(a0)\n",
    "util.add_days(a0)\n",
    "util.add_path(a0)\n",
    "util.add_scanno(a0)\n",
    "\n",
    "util.fix(a1)\n",
    "util.add_days(a1)\n",
    "util.add_path(a1)\n",
    "util.add_scanno(a1)"
   ]
  },
  {
   "cell_type": "code",
   "execution_count": null,
   "id": "ee8cb416",
   "metadata": {},
   "outputs": [],
   "source": [
    "# Compute the ratio between the amplitudes of the 30s and the 2s alist files\n",
    "\n",
    "# Set MultiIndex columns and group by the same columns (except polarization) for averaging\n",
    "idx_cols = 'expt_no source scan_id baseline polarization'.split()\n",
    "group_cols = 'expt_no source scan_id baseline'.split()\n",
    "a0 = a0[a0.polarization.isin({'RR', 'LL', 'YR', 'XL', 'RY', 'LX'})].set_index(idx_cols).groupby(group_cols).mean(numeric_only=True)\n",
    "a1 = a1[a1.polarization.isin({'RR', 'LL', 'YR', 'XL', 'RY', 'LX'})].set_index(idx_cols).groupby(group_cols).mean(numeric_only=True)\n",
    "\n",
    "# Compute the amplitude ratio\n",
    "a0['coh'] = a1.amp / a0.amp\n",
    "a = a0.reset_index().dropna()"
   ]
  },
  {
   "cell_type": "code",
   "execution_count": null,
   "id": "3fa28759",
   "metadata": {},
   "outputs": [],
   "source": [
    "# Plot the 30s/2s amplitude ratio\n",
    "\n",
    "plt.loglog(a.snr, a.coh, '.', ms=1);\n",
    "plt.axvline(7, color='k', ls='--', lw=2, alpha=0.25);\n",
    "plt.axhline(1, color='k', ls='--', lw=2, alpha=0.25);\n",
    "\n",
    "plt.ylim(.2, 2);\n",
    "plt.xlim(1, None);\n",
    "plt.xlabel('2s SNR');\n",
    "plt.ylabel('30s relative amplitude');\n",
    "plt.title('30s/2s amplitude ratio');\n",
    "wide(8, 4.5);"
   ]
  },
  {
   "cell_type": "markdown",
   "id": "6d0d2199",
   "metadata": {},
   "source": [
    "### Coherence loss plots by station\n",
    "\n",
    "We make a series of plots showing the coherence loss for all baselines to a given station.\n",
    "\n",
    "The vertical dashed lines represent the track (expt_no) boundaries."
   ]
  },
  {
   "cell_type": "code",
   "execution_count": null,
   "id": "6bb8bd64",
   "metadata": {},
   "outputs": [],
   "source": [
    "# data filters\n",
    "\n",
    "snr_cutoff = 7 # reasonable SNR cutoff for filtering\n",
    "\n",
    "a = a[(a.snr > snr_cutoff) & ~a.baseline.str.contains('R')]"
   ]
  },
  {
   "cell_type": "code",
   "execution_count": null,
   "id": "d7c36f1e",
   "metadata": {},
   "outputs": [],
   "source": [
    "# Compute the boundaries between expt_nos\n",
    "sorted_a = a.sort_values(['expt_no', 'scan_no'])\n",
    "last_scans = sorted_a.groupby('expt_no')['scan_no'].max() # Find the 'max' scan_no for each expt_no\n",
    "elines = (last_scans.iloc[:-1] + 0.5).to_numpy() # Drop the final expt_no and offset by 0.5"
   ]
  },
  {
   "cell_type": "code",
   "execution_count": null,
   "id": "ee9d8a1c",
   "metadata": {},
   "outputs": [],
   "source": [
    "# show all output in cell\n",
    "from IPython.core.interactiveshell import InteractiveShell\n",
    "InteractiveShell.ast_node_interactivity = \"all\"\n",
    "pd.options.display.float_format = '{:,.2f}'.format"
   ]
  },
  {
   "cell_type": "code",
   "execution_count": null,
   "id": "3435da20",
   "metadata": {},
   "outputs": [],
   "source": [
    "# Get sorted list of unique sites from the baseline column\n",
    "sites = sorted(set().union(*set(a.baseline)))\n",
    "\n",
    "# Define cutoffs for SNR and outliers\n",
    "snr_split = 50\n",
    "outliers_coh = 0.8\n",
    "outliers_snr = 20\n",
    "\n",
    "for site in sites:\n",
    "    df_site = a[a.baseline.str.contains(site)]\n",
    "\n",
    "    # Plot the coherence loss for each baseline to the site\n",
    "    for (bl, rows) in df_site.groupby('baseline'):\n",
    "        lo_mask = rows.snr < snr_split\n",
    "        hi_mask = rows.snr >= snr_split\n",
    "\n",
    "        # Reverse the baseline if the second character is not the site\n",
    "        bl = bl if bl[1] == site else bl[::-1]\n",
    "\n",
    "        h = plt.errorbar(rows[hi_mask].scan_no, rows[hi_mask].coh, yerr=1./rows[hi_mask].snr,\n",
    "                         fmt='.', label='_nolegend_' if hi_mask.sum() == 0 else bl, zorder=10)\n",
    "        \n",
    "        _ = plt.errorbar(rows[lo_mask].scan_no, rows[lo_mask].coh, yerr=1./rows[lo_mask].snr,\n",
    "                     fmt='.', label=bl if (hi_mask.sum() == 0 and lo_mask.sum() > 0) else '_nolegend_', color=h[0].get_color(), alpha=0.5)\n",
    "        \n",
    "    multline(elines)\n",
    "\n",
    "    _ = plt.title('Coherence loss in 30 seconds [%.0f MHz]' % (df_site.iloc[0].ref_freq))\n",
    "\n",
    "    tightx()\n",
    "    _ = plt.xlim(0, plt.xlim()[1]*1.1)\n",
    "    _ = plt.grid(axis='y', alpha=0.25)\n",
    "    _ = plt.legend(loc='best')\n",
    "\n",
    "    outliers = df_site[(df_site.coh < outliers_coh) & (df_site.snr > outliers_snr)]\n",
    "    if len(outliers) > 0:\n",
    "        _ = plt.plot(outliers.scan_no, outliers.coh, 'ko', ms=8, mfc='none', mew=2, zorder=-100)\n",
    "        \n",
    "    wide(12, 4)\n",
    "    plt.show()\n",
    "    \n",
    "    # Display outliers\n",
    "    outliers[\"expt_no scan_id source baseline snr coh\".split()]"
   ]
  }
 ],
 "metadata": {
  "celltoolbar": "Tags",
  "kernelspec": {
   "display_name": "Python 3 (ipykernel)",
   "language": "python",
   "name": "python3"
  },
  "language_info": {
   "codemirror_mode": {
    "name": "ipython",
    "version": 3
   },
   "file_extension": ".py",
   "mimetype": "text/x-python",
   "name": "python",
   "nbconvert_exporter": "python",
   "pygments_lexer": "ipython3",
   "version": "3.9.15"
  }
 },
 "nbformat": 4,
 "nbformat_minor": 5
}
