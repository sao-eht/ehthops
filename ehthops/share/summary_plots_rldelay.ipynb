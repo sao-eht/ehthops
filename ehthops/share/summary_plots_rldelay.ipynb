{
 "cells": [
  {
   "cell_type": "markdown",
   "id": "b495db14",
   "metadata": {},
   "source": [
    "# R-L delay tests\n",
    "\n",
    "[L. Blackburn, Sep 2018; rewritten for Python 3.9, Dec 2022]\n",
    "\n",
    "The purpose of this test is to check stability of R-L delay alignment in one antenna using a reference signal (either polarization) from another antenna. Outliers in R-L delay indicate a mis-fringe in the parallel and/or cross hand polarization product of the baselines being tested. The test is sensitive to delayed leakage in either antenna which can cause a spurious cross-hand fringe. It can also show misidentified singleband delay, e.g. from being outside the search window."
   ]
  },
  {
   "cell_type": "code",
   "execution_count": null,
   "id": "9ebf8cd9",
   "metadata": {},
   "outputs": [],
   "source": [
    "# basic import and helper functions\n",
    "import pandas as pd\n",
    "from eat.io import hops, util\n",
    "from eat.hops import util as hu\n",
    "from eat.plots import util as pu\n",
    "import matplotlib.pyplot as plt\n",
    "import numpy as np\n",
    "import os\n",
    "import sys\n",
    "import seaborn as sns\n",
    "\n",
    "sns.reset_orig()\n",
    "# sns.set_palette(sns.color_palette(sns.hls_palette(16, l=.6, s=.6)))\n",
    "%matplotlib inline\n",
    "%config InlineBackend.figure_format = 'retina'\n",
    "# %config InlineBackend.figure_formats=['svg']\n",
    "\n",
    "nb_stdout = sys.stdout # grab for later\n",
    "\n",
    "def wide(w=8, h=3): plt.setp(plt.gcf(), figwidth=w, figheight=h); \\\n",
    "    plt.tight_layout()\n",
    "\n",
    "def tightx(): plt.autoscale(enable=True, axis='x', tight=True)\n",
    "\n",
    "def multline(xs, fun=plt.axvline):\n",
    "    for x in xs: fun(x, alpha=0.25, ls='--', color='k')\n",
    "\n",
    "def toiter(x):\n",
    "    return(x if hasattr(x, '__iter__') else [x,])\n",
    "\n",
    "# pd.options.display.float_format = '{:,.6f}'.format\n",
    "from IPython.display import display, HTML\n",
    "display(HTML(\"<style>\"\n",
    "    + \"#notebook { padding-top:0px !important; } \" \n",
    "    + \".container { width:100% !important; } \"\n",
    "    + \".end_space { min-height:0px !important; } \"\n",
    "    + \"</style>\"))"
   ]
  },
  {
   "cell_type": "code",
   "execution_count": null,
   "id": "ce53d6d5",
   "metadata": {},
   "outputs": [],
   "source": [
    "# define and load data\n",
    "alistf = 'alist.v6'\n",
    "datadir = os.environ['DATADIR']\n",
    "\n",
    "a = util.noauto(hops.read_alist(os.path.join(datadir, alistf)))\n",
    "\n",
    "# Pre-process alist dataframe\n",
    "util.fix(a)\n",
    "util.unwrap_mbd(a)\n",
    "util.add_days(a)\n",
    "util.add_delayerr(a)\n",
    "util.add_path(a)\n",
    "util.add_scanno(a)"
   ]
  },
  {
   "cell_type": "code",
   "execution_count": null,
   "id": "d481eae9",
   "metadata": {},
   "outputs": [],
   "source": [
    "# data filters -- remove SMAR-SMAW baselines (only applicable to EHT2017 data)\n",
    "thres = 7.0\n",
    "a = a[(a.snr > thres) & ~a.baseline.isin({'RS', 'SR'})].copy()"
   ]
  },
  {
   "cell_type": "code",
   "execution_count": null,
   "id": "45ff02ae",
   "metadata": {},
   "outputs": [],
   "source": [
    "# Compute the boundaries between expt_nos\n",
    "sorted_a = a.sort_values(['expt_no', 'scan_no'])\n",
    "last_scans = sorted_a.groupby('expt_no')['scan_no'].max() # Find the 'max' scan_no for each expt_no\n",
    "elines = (last_scans.iloc[:-1] + 0.5).to_numpy() # Drop the final expt_no and offset by 0.5"
   ]
  },
  {
   "cell_type": "code",
   "execution_count": null,
   "id": "d19e8ca2",
   "metadata": {},
   "outputs": [],
   "source": [
    "# show all output in cell\n",
    "from IPython.core.interactiveshell import InteractiveShell\n",
    "InteractiveShell.ast_node_interactivity = \"all\""
   ]
  },
  {
   "cell_type": "code",
   "execution_count": null,
   "id": "cef89015",
   "metadata": {},
   "outputs": [],
   "source": [
    "# Get sorted list of unique sites from the baseline column\n",
    "sites = sorted(set().union(*set(a.baseline)))\n",
    "\n",
    "# Define cutoffs\n",
    "lroffset_thres = 0.000200\n",
    "lrstd_thres = 5.0\n",
    "\n",
    "for site in sites:\n",
    "    try:\n",
    "        (p, stats) = hu.rl_segmented(a, site, restarts=hu.restarts)\n",
    "        hu.rlplot(p, corrected=True)\n",
    "        \n",
    "        multline(elines)\n",
    "        \n",
    "        outliers = ((np.abs(p.LR_offset) > lroffset_thres) & (np.abs(p.LR_std) > lrstd_thres)\n",
    "                    & ~(p.baseline.str.contains('L')\n",
    "                    & (np.abs(np.abs(p.LR_offset) - 0.00145) < lroffset_thres)))\n",
    "        if len(outliers) > 0:\n",
    "            _ = plt.plot(p[outliers].scan_no, 1e3*p[outliers].LR_offset_wrap,\n",
    "                         'ko', ms=8, mfc='none', mew=2, zorder=-100)\n",
    "        _ = plt.title('R-L delay after subtracting mean value [%.0f MHz]' % (p.iloc[0].ref_freq))\n",
    "        _ = plt.xlim(0, 1.05*plt.xlim()[1])\n",
    "        wide(12, 5)\n",
    "        plt.show()\n",
    "\n",
    "        p.loc[outliers, \"expt_no scan_id source timetag baseline ref_pol mbd_unwrap LR_offset LR_offset_wrap\".split()]\n",
    "\n",
    "    except Exception as e:\n",
    "        print(f\"Error processing site {site}: {e}\\nMoving on to next site...\")\n",
    "        continue"
   ]
  }
 ],
 "metadata": {
  "celltoolbar": "Tags",
  "kernelspec": {
   "display_name": "Python 3 (ipykernel)",
   "language": "python",
   "name": "python3"
  },
  "language_info": {
   "codemirror_mode": {
    "name": "ipython",
    "version": 3
   },
   "file_extension": ".py",
   "mimetype": "text/x-python",
   "name": "python",
   "nbconvert_exporter": "python",
   "pygments_lexer": "ipython3",
   "version": "3.10.11"
  }
 },
 "nbformat": 4,
 "nbformat_minor": 5
}
