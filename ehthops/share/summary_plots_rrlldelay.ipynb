{
 "cells": [
  {
   "cell_type": "markdown",
   "id": "3794d216",
   "metadata": {},
   "source": [
    "# RR-LL delay tests\n",
    "\n",
    "[L. Blackburn, Sep 2018; rewritten for Python 3.9, Dec 2022]\n",
    "\n",
    "The purpose of this test is to check stability of RR-LL delay alignment for baselines in the array. We expect R-L delay to be stable at each antenna, thus baseline RR-LL delay should also be stable. RR-LL is a cleaner signal than the RL or LR necessary for a direct measurement of R-L at a single site because it has less relative contamination from leakage. Also because ALMA XY feeds are aligned, ALMA is able to be used as a reference by assuming R-L delay at ALMA is exactly zero."
   ]
  },
  {
   "cell_type": "code",
   "execution_count": null,
   "id": "1bbf9f0f",
   "metadata": {},
   "outputs": [],
   "source": [
    "# basic import and helper functions\n",
    "import pandas as pd\n",
    "from eat.io import hops, util\n",
    "from eat.hops import util as hu\n",
    "from eat.plots import util as pu\n",
    "import matplotlib.pyplot as plt\n",
    "import numpy as np\n",
    "import os\n",
    "import sys\n",
    "import seaborn as sns\n",
    "\n",
    "sns.reset_orig()\n",
    "# sns.set_palette(sns.color_palette(sns.hls_palette(16, l=.6, s=.6)))\n",
    "%matplotlib inline\n",
    "%config InlineBackend.figure_format = 'retina'\n",
    "# %config InlineBackend.figure_formats=['svg']\n",
    "\n",
    "nb_stdout = sys.stdout # grab for later\n",
    "\n",
    "def wide(w=8, h=3): plt.setp(plt.gcf(), figwidth=w, figheight=h); \\\n",
    "    plt.tight_layout()\n",
    "\n",
    "def tightx(): plt.autoscale(enable=True, axis='x', tight=True)\n",
    "\n",
    "def multline(xs, fun=plt.axvline):\n",
    "    for x in xs: fun(x, alpha=0.25, ls='--', color='k')\n",
    "\n",
    "def toiter(x):\n",
    "    return(x if hasattr(x, '__iter__') else [x,])\n",
    "\n",
    "# pd.options.display.float_format = '{:,.6f}'.format\n",
    "from IPython.display import display, HTML\n",
    "display(HTML(\"<style>\"\n",
    "    + \"#notebook { padding-top:0px !important; } \" \n",
    "    + \".container { width:100% !important; } \"\n",
    "    + \".end_space { min-height:0px !important; } \"\n",
    "    + \"</style>\"))"
   ]
  },
  {
   "cell_type": "code",
   "execution_count": null,
   "id": "c20da344",
   "metadata": {},
   "outputs": [],
   "source": [
    "# define and load data\n",
    "alistf = 'alist.v6'\n",
    "datadir = os.environ['DATADIR']\n",
    "\n",
    "a = util.noauto(hops.read_alist(os.path.join(datadir, alistf)))\n",
    "\n",
    "# Pre-process alist dataframe\n",
    "util.fix(a)\n",
    "util.unwrap_mbd(a)\n",
    "util.add_days(a)\n",
    "util.add_delayerr(a)\n",
    "util.add_path(a)\n",
    "util.add_scanno(a)"
   ]
  },
  {
   "cell_type": "markdown",
   "id": "94671f3f",
   "metadata": {},
   "source": [
    "Apply data filters and modify the polarization column to handle mixed polarization data. In mixedpol basis, all four correlations can be used in computing RR-LL difference since all four Stokes components are present in each correlation product. To enable this, we relabel XL and YL to LL and XR and YR to RR."
   ]
  },
  {
   "cell_type": "code",
   "execution_count": null,
   "id": "227a59d9",
   "metadata": {},
   "outputs": [],
   "source": [
    "# data filters -- remove SMAR-SMAW baselines (only applicable to EHT2017 data)\n",
    "thres = 7.0\n",
    "a = a[(a.snr > thres) & ~a.baseline.isin({'RS', 'SR'})].copy()\n",
    "\n",
    "# Relabel polarizations if mixedpol visibilities are present\n",
    "a['polarization'] = a.polarization.replace({'XL':'LL', 'YL':'LL', 'XR':'RR', 'YR':'RR'})"
   ]
  },
  {
   "cell_type": "code",
   "execution_count": null,
   "id": "2ac46144",
   "metadata": {},
   "outputs": [],
   "source": [
    "# Compute the boundaries between expt_nos\n",
    "sorted_a = a.sort_values(['expt_no', 'scan_no'])\n",
    "last_scans = sorted_a.groupby('expt_no')['scan_no'].max() # Find the 'max' scan_no for each expt_no\n",
    "elines = (last_scans.iloc[:-1] + 0.5).to_numpy() # Drop the final expt_no and offset by 0.5"
   ]
  },
  {
   "cell_type": "code",
   "execution_count": null,
   "id": "3dd673b4",
   "metadata": {},
   "outputs": [],
   "source": [
    "# calculate the segmented statistics\n",
    "(p, stats) = hu.rrll_segmented(a, restarts=hu.restarts)\n",
    "\n",
    "# filter out ALMA and non-ALMA baselines\n",
    "wa = sorted([bl for bl in set(p.index.get_level_values('baseline')) if bl[0] == 'A'])\n",
    "na = sorted([bl for bl in set(p.index.get_level_values('baseline')) if bl[0] != 'A'])"
   ]
  },
  {
   "cell_type": "code",
   "execution_count": null,
   "id": "058a5014",
   "metadata": {},
   "outputs": [],
   "source": [
    "stats.loc[(slice(None),slice(None),wa),:]"
   ]
  },
  {
   "cell_type": "code",
   "execution_count": null,
   "id": "8eb82816",
   "metadata": {},
   "outputs": [],
   "source": [
    "# Make rrll plots for ALMA and non-ALMA baselines in different subplots\n",
    "\n",
    "plt.subplot(3, 1, 1)\n",
    "hu.rrllplot(p, baselines=wa, vlines=elines)\n",
    "plt.xlim(0, 1.05*plt.xlim()[1])\n",
    "plt.title('RR-LL delay after subtracting mean value [%.0f MHz]' % (p.iloc[0].ref_freq))\n",
    "\n",
    "plt.subplot(3, 1, 2)\n",
    "hu.rrllplot(p, baselines=na[:len(na)//2], vlines=elines)\n",
    "plt.xlim(0, 1.05*plt.xlim()[1])\n",
    "\n",
    "plt.subplot(3, 1, 3)\n",
    "hu.rrllplot(p, baselines=na[len(na)//2:], vlines=elines)\n",
    "plt.xlim(0, 1.05*plt.xlim()[1])\n",
    "wide(12, 10)"
   ]
  },
  {
   "cell_type": "code",
   "execution_count": null,
   "id": "53c7831c",
   "metadata": {},
   "outputs": [],
   "source": [
    "# table of outliers\n",
    "outliers = (p.LLRR_offset.abs() > 0.000050) & (p.LLRR_std.abs() > 5)\n",
    "p.loc[outliers, \"expt_no scan_id source timetag mbd_unwrap LLRR_offset LLRR_std\".split()]"
   ]
  },
  {
   "cell_type": "code",
   "execution_count": null,
   "id": "307b195c",
   "metadata": {},
   "outputs": [],
   "source": [
    "# scatter plot shows balancing between systematic error and bandwidth inflation factor\n",
    "# we want to see relatively well-behaved distribution across multiple SNR\n",
    "plt.semilogx(p['LLRR_err'].values, p['LLRR_std'].values, '.')\n",
    "plt.ylim(-5, 5)\n",
    "plt.xlabel('predicted LL-RR error')\n",
    "plt.ylabel('sigmas away from mean')\n",
    "\n",
    "plt.gca().yaxis.grid(ls='--', alpha=0.5)\n",
    "wide(10, 5)"
   ]
  },
  {
   "cell_type": "markdown",
   "id": "3546a63d",
   "metadata": {},
   "source": [
    "Plot histograms of deviation from mean for ALMA and non-ALMA baselines separately."
   ]
  },
  {
   "cell_type": "code",
   "execution_count": null,
   "id": "79abd67e",
   "metadata": {},
   "outputs": [],
   "source": [
    "# histogram of sigmas deviation\n",
    "from scipy.stats import norm\n",
    "\n",
    "lim = 8 # np.ceil(np.max(np.abs(p.LLRR_std)))\n",
    "xx = np.linspace(-lim, lim, 200)\n",
    "bins = np.linspace(-lim, lim, 161)\n",
    "\n",
    "for baselines in [wa, na]:\n",
    "    q = p.loc[(slice(None),slice(None),baselines),:]\n",
    "    (names, vals) = zip(*[(bl, rows.LLRR_std) for (bl, rows) in q.groupby('baseline')])\n",
    "    names2 = list(name + ': %.1f' % np.sqrt(np.mean(val**2)) for (name, val) in zip(names, vals))\n",
    "    plt.hist(vals, bins=bins, histtype='barstacked', alpha=1.0, label=names2, density=True)\n",
    "    \n",
    "    # Plot the normal distribution for comparison\n",
    "    plt.plot(xx, norm.pdf(xx, loc=0, scale=1.0), 'k--', alpha=0.5)\n",
    "    \n",
    "    plt.xlabel('std away from mean')\n",
    "    plt.ylabel('distribution of scans')\n",
    "    plt.title('RR-LL delay offsets after subtracting mean value [%.0f MHz]' % (p.iloc[0].ref_freq))\n",
    "    plt.legend(loc='upper right')\n",
    "    plt.grid(alpha=0.25)\n",
    "    \n",
    "    std = np.mean(q.LLRR_std**2)\n",
    "    pu.tag('N = %d, std=%.1f' % (len(q), std), loc='upper left')\n",
    "    plt.xlim(-lim, lim) # only show bulk distribution\n",
    "    \n",
    "    wide(12, 4.5)\n",
    "    plt.show()"
   ]
  }
 ],
 "metadata": {
  "celltoolbar": "Tags",
  "kernelspec": {
   "display_name": "Python 3 (ipykernel)",
   "language": "python",
   "name": "python3"
  },
  "language_info": {
   "codemirror_mode": {
    "name": "ipython",
    "version": 3
   },
   "file_extension": ".py",
   "mimetype": "text/x-python",
   "name": "python",
   "nbconvert_exporter": "python",
   "pygments_lexer": "ipython3",
   "version": "3.10.11"
  }
 },
 "nbformat": 4,
 "nbformat_minor": 5
}
