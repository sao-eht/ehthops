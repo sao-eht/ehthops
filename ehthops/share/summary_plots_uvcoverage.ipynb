{
 "cells": [
  {
   "cell_type": "markdown",
   "id": "dcca4c13",
   "metadata": {},
   "source": [
    "# UV coverage of sources\n",
    "\n",
    "[L. Blackburn, Sep 2018; rewritten for Python 3.9, Dec 2022]\n",
    "\n",
    "The purpose of this summary is to show UV coverage of detections and upper limits of all sources"
   ]
  },
  {
   "cell_type": "code",
   "execution_count": null,
   "id": "456f2a14",
   "metadata": {
    "tags": [
     "parameters"
    ]
   },
   "outputs": [],
   "source": [
    "alistf = 'alist.v6'"
   ]
  },
  {
   "cell_type": "code",
   "execution_count": null,
   "id": "fd7cb24e",
   "metadata": {},
   "outputs": [],
   "source": [
    "# basic import and helper functions\n",
    "import pandas as pd\n",
    "from eat.io import hops, util\n",
    "from eat.hops import util as hu\n",
    "from eat.plots import util as pu\n",
    "from collections import OrderedDict\n",
    "import itertools\n",
    "import matplotlib.pyplot as plt\n",
    "import numpy as np\n",
    "import os\n",
    "from matplotlib.ticker import MultipleLocator\n",
    "import seaborn as sns\n",
    "sns.reset_orig()\n",
    "# sns.set_palette(sns.color_palette(sns.hls_palette(16, l=.6, s=.6)))\n",
    "%matplotlib inline\n",
    "%config InlineBackend.figure_format = 'retina'\n",
    "# %config InlineBackend.figure_formats=['svg']\n",
    "import sys\n",
    "nb_stdout = sys.stdout # grab for later\n",
    "def wide(w=8, h=3): plt.setp(plt.gcf(), figwidth=w, figheight=h); \\\n",
    "    plt.tight_layout()\n",
    "def tightx(): plt.autoscale(enable=True, axis='x', tight=True)\n",
    "def multline(xs, fun=plt.axvline):\n",
    "    for x in xs: fun(x, alpha=0.25, ls='--', color='k')\n",
    "def toiter(x):\n",
    "    return(x if hasattr(x, '__iter__') else [x,])\n",
    "# pd.options.display.float_format = '{:,.6f}'.format\n",
    "from IPython.display import display, HTML\n",
    "display(HTML(\"<style>\"\n",
    "    + \"#notebook { padding-top:0px !important; } \" \n",
    "    + \".container { width:100% !important; } \"\n",
    "    + \".end_space { min-height:0px !important; } \"\n",
    "    + \"</style>\"))\n",
    "import string"
   ]
  },
  {
   "cell_type": "code",
   "execution_count": null,
   "id": "c4b697cf",
   "metadata": {},
   "outputs": [],
   "source": [
    "# define and load data\n",
    "#alistf = 'alist.v6'\n",
    "#stage = '3.+adhoc'\n",
    "#datadir = f'/home/iniyan/github/2021-april/dev-template/hops-b4/{stage}/data/'\n",
    "datadir = os.environ['DATADIR']\n",
    "a = util.noauto(hops.read_alist(os.path.join(datadir, alistf)))\n",
    "util.unwrap_mbd(a)\n",
    "util.add_days(a)\n",
    "util.add_delayerr(a)\n",
    "util.add_path(a)\n",
    "util.add_scanno(a)"
   ]
  },
  {
   "cell_type": "code",
   "execution_count": null,
   "id": "8babc36f",
   "metadata": {},
   "outputs": [],
   "source": [
    "# reduce baseline complexity\n",
    "a['baseline'] = a.baseline.str.translate(str.maketrans('XJR', 'ASS'))\n",
    "util.fix(a)"
   ]
  },
  {
   "cell_type": "code",
   "execution_count": null,
   "id": "1aaf94a3",
   "metadata": {},
   "outputs": [],
   "source": [
    "for src in sorted(set(a.source)):\n",
    "    hu.uvplot(a, src)\n",
    "    plt.show()"
   ]
  }
 ],
 "metadata": {
  "celltoolbar": "Tags",
  "kernelspec": {
   "display_name": "Python 3 (ipykernel)",
   "language": "python",
   "name": "python3"
  },
  "language_info": {
   "codemirror_mode": {
    "name": "ipython",
    "version": 3
   },
   "file_extension": ".py",
   "mimetype": "text/x-python",
   "name": "python",
   "nbconvert_exporter": "python",
   "pygments_lexer": "ipython3",
   "version": "3.10.11"
  }
 },
 "nbformat": 4,
 "nbformat_minor": 5
}
