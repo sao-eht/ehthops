{
 "cells": [
  {
   "cell_type": "markdown",
   "id": "554b9339",
   "metadata": {},
   "source": [
    "# closure phases\n",
    "\n",
    "[L. Blackburn, Sep 2018; rewritten for Python 3.9, Dec 2022]\n",
    "\n",
    "The purpose of this test is to check trivial and non-trivial closure phases for sanity."
   ]
  },
  {
   "cell_type": "code",
   "execution_count": null,
   "id": "0e915f60",
   "metadata": {},
   "outputs": [],
   "source": [
    "# basic import and helper functions\n",
    "import pandas as pd\n",
    "from eat.io import hops, util\n",
    "from eat.hops import util as hu\n",
    "from eat.plots import util as pu\n",
    "import matplotlib.pyplot as plt\n",
    "import os\n",
    "import sys\n",
    "import numpy as np\n",
    "import seaborn as sns\n",
    "\n",
    "sns.reset_orig()\n",
    "# sns.set_palette(sns.color_palette(sns.hls_palette(16, l=.6, s=.6)))\n",
    "%matplotlib inline\n",
    "%config InlineBackend.figure_format = 'retina'\n",
    "# %config InlineBackend.figure_formats=['svg']\n",
    "\n",
    "nb_stdout = sys.stdout # grab for later\n",
    "\n",
    "def wide(w=8, h=3): plt.setp(plt.gcf(), figwidth=w, figheight=h); \\\n",
    "    plt.tight_layout()\n",
    "\n",
    "def tightx(): plt.autoscale(enable=True, axis='x', tight=True)\n",
    "\n",
    "def multline(xs, fun=plt.axvline):\n",
    "    for x in xs: fun(x, alpha=0.25, ls='--', color='k')\n",
    "\n",
    "def toiter(x):\n",
    "    return(x if hasattr(x, '__iter__') else [x,])\n",
    "\n",
    "# pd.options.display.float_format = '{:,.6f}'.format\n",
    "from IPython.display import display, HTML\n",
    "display(HTML(\"<style>\"\n",
    "    + \"#notebook { padding-top:0px !important; } \" \n",
    "    + \".container { width:100% !important; } \"\n",
    "    + \".end_space { min-height:0px !important; } \"\n",
    "    + \"</style>\"))"
   ]
  },
  {
   "cell_type": "markdown",
   "id": "0f332460",
   "metadata": {},
   "source": [
    "Loading the alist file (for computing global scan numbers) and the scan-averaged closure files for LL and RR polarizations for plotting closure quantities."
   ]
  },
  {
   "cell_type": "code",
   "execution_count": null,
   "id": "821c52e1",
   "metadata": {},
   "outputs": [],
   "source": [
    "# Define variables and load data\n",
    "alistf = 'alist.v6'\n",
    "alistfll = 'alist.v6.8s.LL.close.avg'\n",
    "alistfrr = 'alist.v6.8s.RR.close.avg'\n",
    "datadir = os.environ['DATADIR']\n",
    "\n",
    "a = hops.read_alist(os.path.join(datadir, alistf)) # alist file to make scan_no\n",
    "\n",
    "ll = hops.read_tlist_v6(os.path.join(datadir, alistfll))\n",
    "ll['polarization'] = 'LL'\n",
    "\n",
    "rr = hops.read_tlist_v6(os.path.join(datadir, alistfrr))\n",
    "rr['polarization'] = 'RR'\n",
    "\n",
    "# Concat the two dataframes and pre-process them\n",
    "df_close = pd.concat((ll, rr), ignore_index=True)\n",
    "util.add_gmst(df_close)\n",
    "hu.setparity(df_close)\n",
    "util.fix(df_close)"
   ]
  },
  {
   "cell_type": "code",
   "execution_count": null,
   "id": "d5b97b89",
   "metadata": {},
   "outputs": [],
   "source": [
    "# Add scan_no to the concatenated dataframe for grouping and plotting\n",
    "util.add_scanno(a)\n",
    "tup2scanno = a.groupby(['expt_no', 'scan_id']).first().scan_no\n",
    "df_close = df_close.join(tup2scanno, on=['expt_no', 'scan_id'], how='left')"
   ]
  },
  {
   "cell_type": "code",
   "execution_count": null,
   "id": "313f4d63",
   "metadata": {},
   "outputs": [],
   "source": [
    "# Compute the boundaries between expt_nos\n",
    "sorted_a = a.sort_values(['expt_no', 'scan_no'])\n",
    "last_scans = sorted_a.groupby('expt_no')['scan_no'].max() # Find the 'max' scan_no for each expt_no\n",
    "elines = (last_scans.iloc[:-1] + 0.5).to_numpy() # Drop the final expt_no and offset by 0.5"
   ]
  },
  {
   "cell_type": "markdown",
   "id": "03277a1f",
   "metadata": {},
   "source": [
    "### Plot trivial closure phases\n",
    "\n",
    "Generate plots of closure phase (bispectrum phase) vs scan number for all triangles containing the \"zero-baselines\" ALMA-APEX and SMA-JCMT."
   ]
  },
  {
   "cell_type": "code",
   "execution_count": null,
   "id": "9046e2ab",
   "metadata": {},
   "outputs": [],
   "source": [
    "def clplot(df_close, triangles, threshold=3):\n",
    "    df = df_close[(df_close.bis_snr > threshold) & ~df_close.triangle.str.contains('R') & (df_close.duration > 8*5)]\n",
    "    for tri in triangles:\n",
    "        rr = df[(df.polarization == 'RR') & (df.triangle==tri)]\n",
    "        ll = df[(df.polarization == 'LL') & (df.triangle==tri)]\n",
    "        hl = plt.errorbar(ll.scan_no - 0.025, ll.bis_phas, yerr=(1./ll.bis_snr)*180./np.pi,\n",
    "                          fmt='o', label=tri)\n",
    "        _ = plt.errorbar(rr.scan_no + 0.025, rr.bis_phas, yerr=(1./rr.bis_snr)*180./np.pi,\n",
    "                          fmt='x', label='_nolegend_', color=hl[0].get_color())\n",
    "    \n",
    "    plt.gca().yaxis.grid(alpha=0.25)\n",
    "    plt.legend(ncol=3)\n",
    "\n",
    "    plt.title('closure phases')\n",
    "    plt.xlabel('scan number')\n",
    "    plt.ylabel('degrees')\n",
    "\n",
    "    pu.multline(elines)"
   ]
  },
  {
   "cell_type": "code",
   "execution_count": null,
   "id": "6ce6fa00",
   "metadata": {},
   "outputs": [],
   "source": [
    "# Plot closure phases for triangles with A and X\n",
    "clplot(df_close, sorted((t for t in set(df_close.triangle) if 'A' in t and 'X' in t and 'R' not in t)))\n",
    "wide(12, 5)"
   ]
  },
  {
   "cell_type": "code",
   "execution_count": null,
   "id": "a54b4d0f",
   "metadata": {},
   "outputs": [],
   "source": [
    "# Plot closure phases for triangles with S and J\n",
    "clplot(df_close, sorted((t for t in set(df_close.triangle) if 'S' in t and 'J' in t and 'R' not in t)))\n",
    "wide(12, 5)"
   ]
  },
  {
   "cell_type": "markdown",
   "id": "299f1a3d",
   "metadata": {},
   "source": [
    "### Plot other closure phases by source and track (expt_no)\n",
    "\n",
    "Here we plot closure phases vs time (GMST) for all remaining triangles by source."
   ]
  },
  {
   "cell_type": "code",
   "execution_count": null,
   "id": "13b62038",
   "metadata": {},
   "outputs": [],
   "source": [
    "def clplot2(df_close, source, triangles, threshold=3):\n",
    "    df = df_close[(df_close.bis_snr > threshold) & ~df_close.triangle.str.contains('R') & (df_close.duration > 8*5) \n",
    "           & (df_close.source==source) & df_close.triangle.isin(set(triangles))].copy()\n",
    "    \n",
    "    # Adjust GMST to be continuous across the entire observing track\n",
    "    t = np.hstack((df.gmst.sort_values().values, df.gmst.sort_values().values + 24.))\n",
    "    if len(t) == 0:\n",
    "        return True\n",
    "    idx = np.argmax(np.diff(t))\n",
    "    toff = np.fmod(48. - 0.5 * (t[idx] + t[1+idx]), 24.)\n",
    "    df.gmst = np.fmod(df.gmst + toff, 24.) - toff\n",
    "    \n",
    "    for tri in triangles:\n",
    "        rr = df[(df.polarization == 'RR') & (df.triangle==tri)]\n",
    "        ll = df[(df.polarization == 'LL') & (df.triangle==tri)]\n",
    "        if(len(ll) > 0):\n",
    "            (llabel, rlabel) = (tri, '_nolegend_')\n",
    "        elif(len(rr) > 0):\n",
    "            (llabel, rlabel) = ('_nolegend_', tri)\n",
    "        else:\n",
    "            (llabel, rlabel) = ('_nolegend_', '_nolegend_')\n",
    "        hl = plt.errorbar(ll.gmst - 0.01, ll.bis_phas, yerr=(1./ll.bis_snr)*180./np.pi,\n",
    "                          fmt='o', label=llabel)\n",
    "        _ = plt.errorbar(rr.gmst + 0.01, rr.bis_phas, yerr=(1./rr.bis_snr)*180./np.pi,\n",
    "                          fmt='x', label=rlabel, color=hl[0].get_color())\n",
    "        \n",
    "    plt.gca().yaxis.grid(alpha=0.25)\n",
    "    plt.legend(ncol=3)\n",
    "    \n",
    "    plt.title(source + ' closure phases')\n",
    "    plt.xlabel('GMST hour')\n",
    "    plt.ylabel('degrees')"
   ]
  },
  {
   "cell_type": "markdown",
   "id": "ecddb2ff",
   "metadata": {},
   "source": [
    "Plot closure phases against time for all non-degenerate triangles by source."
   ]
  },
  {
   "cell_type": "code",
   "execution_count": null,
   "id": "50730f9d",
   "metadata": {},
   "outputs": [],
   "source": [
    "triangles = sorted((t for t in set(df_close.triangle) if 'R' not in t))\n",
    "\n",
    "# Filter out triangles that contain 'X' or 'J'; use only 'A' or 'S' instead for baselines to Chile and Hawaii\n",
    "triangles = [t for t in triangles if not ('X' in t or 'J' in t)]\n",
    "\n",
    "sns.set_palette(sns.color_palette(sns.hls_palette(len(triangles), l=.6, s=.6)))\n",
    "\n",
    "for src in sorted(set(df_close.source)):\n",
    "    ret = clplot2(df_close, source=src, triangles=triangles)\n",
    "    if ret:\n",
    "        continue\n",
    "    plt.ylim(-180, 180)\n",
    "    wide(12, 5)\n",
    "    plt.show()"
   ]
  },
  {
   "cell_type": "markdown",
   "id": "757eb086",
   "metadata": {},
   "source": [
    "Plot closure phases against time for all non-degenerate triangles by source, further subdivided by track (expt no)."
   ]
  },
  {
   "cell_type": "code",
   "execution_count": null,
   "id": "df85e108",
   "metadata": {},
   "outputs": [],
   "source": [
    "triangles = sorted((t for t in set(df_close.triangle) if 'R' not in t))\n",
    "\n",
    "# Filter out triangles that contain 'X' or 'J'; use only 'A' or 'S' instead for baselines to Chile and Hawaii\n",
    "triangles = [t for t in triangles if not ('X' in t or 'J' in t)]\n",
    "\n",
    "sources = ['SGRA', 'M87', '3C279', 'OJ287']\n",
    "for src in sorted(set(sources)):\n",
    "    for expt_no in sorted(set(df_close.expt_no)):\n",
    "        ret = clplot2(df_close[df_close.expt_no == expt_no], source=src, triangles=triangles)\n",
    "        if ret:\n",
    "            continue\n",
    "        plt.ylim(-180, 180)\n",
    "        plt.title(str(expt_no) + ' - ' + src + ' closure phases')\n",
    "        wide(12, 5)\n",
    "        plt.show()"
   ]
  }
 ],
 "metadata": {
  "celltoolbar": "Tags",
  "kernelspec": {
   "display_name": "Python 3 (ipykernel)",
   "language": "python",
   "name": "python3"
  },
  "language_info": {
   "codemirror_mode": {
    "name": "ipython",
    "version": 3
   },
   "file_extension": ".py",
   "mimetype": "text/x-python",
   "name": "python",
   "nbconvert_exporter": "python",
   "pygments_lexer": "ipython3",
   "version": "3.10.11"
  }
 },
 "nbformat": 4,
 "nbformat_minor": 5
}
