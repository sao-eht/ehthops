{
 "cells": [
  {
   "cell_type": "markdown",
   "metadata": {},
   "source": [
    "# polarization fraction tests\n",
    "\n",
    "[L. Blackburn, Sep 2018]\n",
    "\n",
    "The purpose of this test is to check stability of polarization fraction on various baselines. The test is sensitive to leakage and false fringes."
   ]
  },
  {
   "cell_type": "code",
   "execution_count": null,
   "metadata": {},
   "outputs": [],
   "source": [
    "# basic import and helper functions\n",
    "import pandas as pd\n",
    "from eat.io import hops, util\n",
    "from eat.hops import util as hu\n",
    "from eat.plots import util as pu\n",
    "from collections import OrderedDict\n",
    "import itertools\n",
    "import matplotlib.pyplot as plt\n",
    "import numpy as np\n",
    "import os\n",
    "from matplotlib.ticker import MultipleLocator\n",
    "import seaborn as sns\n",
    "sns.reset_orig()\n",
    "# sns.set_palette(sns.color_palette(sns.hls_palette(16, l=.6, s=.6)))\n",
    "%matplotlib inline\n",
    "%config InlineBackend.figure_format = 'retina'\n",
    "# %config InlineBackend.figure_formats=['svg']\n",
    "import sys\n",
    "nb_stdout = sys.stdout # grab for later\n",
    "def wide(w=8, h=3): plt.setp(plt.gcf(), figwidth=w, figheight=h); \\\n",
    "    plt.tight_layout()\n",
    "def tightx(): plt.autoscale(enable=True, axis='x', tight=True)\n",
    "def multline(xs, fun=plt.axvline):\n",
    "    for x in xs: fun(x, alpha=0.25, ls='--', color='k')\n",
    "def toiter(x):\n",
    "    return(x if hasattr(x, '__iter__') else [x,])\n",
    "# pd.options.display.float_format = '{:,.6f}'.format\n",
    "from IPython.core.display import display, HTML\n",
    "display(HTML(\"<style>\"\n",
    "    + \"#notebook { padding-top:0px !important; } \" \n",
    "    + \".container { width:100% !important; } \"\n",
    "    + \".end_space { min-height:0px !important; } \"\n",
    "    + \"</style>\"))\n",
    "# Run this in Python once, it should take effect permanently\n",
    "from notebook.services.config import ConfigManager\n",
    "c = ConfigManager()\n",
    "_ = c.update('notebook', {\"CodeCell\": {\"cm_config\": {\"autoCloseBrackets\": False}}})\n",
    "import string"
   ]
  },
  {
   "cell_type": "code",
   "execution_count": null,
   "metadata": {},
   "outputs": [],
   "source": [
    "os.getcwd()"
   ]
  },
  {
   "cell_type": "code",
   "execution_count": null,
   "metadata": {},
   "outputs": [],
   "source": [
    "# define and load data\n",
    "alistf = 'alist.v6'\n",
    "# stage = '2.+pcal'\n",
    "# datadir = '/data/2017-april/ce/er4test2/hops-lo/%s/data/' % stage\n",
    "datadir = os.environ['DATADIR'] + '/'\n",
    "a = util.noauto(hops.read_alist(datadir + alistf))\n",
    "util.fix(a)\n",
    "util.unwrap_mbd(a)\n",
    "util.add_days(a)\n",
    "util.add_delayerr(a)\n",
    "util.add_path(a)\n",
    "util.add_scanno(a)\n",
    "util.add_gmst(a)\n",
    "days = sorted(set(a.expt_no))"
   ]
  },
  {
   "cell_type": "code",
   "execution_count": null,
   "metadata": {},
   "outputs": [],
   "source": [
    "# data filters\n",
    "a = a[(a.snr > 7.) & ~a.baseline.isin({'RS', 'SR'})].copy()"
   ]
  },
  {
   "cell_type": "code",
   "execution_count": null,
   "metadata": {},
   "outputs": [],
   "source": [
    "# expt_no boundary ticker marks vs scan\n",
    "elines = a.scan_no.sort_values().values[np.nonzero(np.diff(a.expt_no.sort_values()) > 0)[0]] + 0.5"
   ]
  },
  {
   "cell_type": "code",
   "execution_count": null,
   "metadata": {},
   "outputs": [],
   "source": [
    "# show all output in cell\n",
    "from IPython.core.interactiveshell import InteractiveShell\n",
    "InteractiveShell.ast_node_interactivity = \"all\""
   ]
  },
  {
   "cell_type": "code",
   "execution_count": null,
   "metadata": {},
   "outputs": [],
   "source": [
    "p = a.pivot_table(aggfunc='first', index=\"expt_no scan_no gmst timetag baseline source u v\".split(),\n",
    "    columns=['polarization'], values=['snr']).dropna()\n",
    "p['fpol'] = np.sqrt((p.snr.LR * p.snr.RL) / (p.snr.LL * p.snr.RR))\n",
    "p['fpol_err'] = np.sqrt(2. / (p.snr.LL * p.snr.RR))\n",
    "q = p.reset_index()"
   ]
  },
  {
   "cell_type": "code",
   "execution_count": null,
   "metadata": {},
   "outputs": [],
   "source": [
    "def pftrend(b, src):\n",
    "    d = b[b.source == src].copy()\n",
    "    t = np.hstack((d.gmst.sort_values().values, d.gmst.sort_values().values + 24.))\n",
    "    idx = np.argmax(np.diff(t))\n",
    "    toff = np.fmod(48. - 0.5 * (t[idx] + t[1+idx]), 24.)\n",
    "    d['gmst'] = np.fmod(d.gmst + toff, 24.) - toff\n",
    "    if d.gmst.max() < 0:\n",
    "        d.gmst += 24\n",
    "    ax = None\n",
    "    blc = dict(zip(sorted(set(d.baseline)),\n",
    "                   itertools.cycle(plt.rcParams['axes.prop_cycle'].by_key()['color'])))\n",
    "    lnum = 1e6\n",
    "    for(i, day) in enumerate(days):\n",
    "        ax = plt.subplot(1, len(days), 1+i, sharey=ax, sharex=ax)\n",
    "        dayrows = d[d.expt_no == day]\n",
    "        if len(dayrows) < lnum:\n",
    "            (lax, lnum) = (ax, len(dayrows))\n",
    "        if i > 0:\n",
    "            _ = plt.setp(ax.get_yticklabels(), visible=False)\n",
    "        for (bl, blrows) in dayrows.groupby('baseline'):\n",
    "            h = plt.errorbar(blrows.gmst, blrows.fpol, blrows.fpol_err, fmt='.', color=blc[bl], label='_nolegend_')\n",
    "            _ = plt.plot(blrows.gmst, blrows.fpol, '-', color=h[0].get_color(), alpha=0.25, label='_nolegend_')\n",
    "        ax.grid(axis='y', alpha=0.25)\n",
    "    lines = [plt.Line2D([0], [0], color=blc[bl], marker='.', ls='none') for bl in sorted(blc.keys())]\n",
    "    leg = Legend(lax, lines, sorted(blc.keys()), loc='best', ncol=2)\n",
    "    _ = lax.add_artist(leg)\n",
    "    wide(12, 4)\n",
    "    plt.subplots_adjust(hspace=0, wspace=0)\n",
    "    _ = plt.suptitle('%s fractional polarization vs GMST' % src, y=plt.gcf().subplotpars.top, va='bottom')"
   ]
  },
  {
   "cell_type": "code",
   "execution_count": null,
   "metadata": {},
   "outputs": [],
   "source": [
    "def pfuv(b, src, cmap='jet'):\n",
    "    d = b[b.source == src].sort_values('fpol')\n",
    "    ax = None\n",
    "    lim = 1.1e-3 * max(d.u.abs().max(), d.v.abs().max())\n",
    "    for(i, day) in enumerate(days):\n",
    "        ax = plt.subplot(1, len(days), 1+i, sharey=ax, sharex=ax, aspect=1.0)\n",
    "        dayrows = d[d.expt_no == day]\n",
    "        if i > 0:\n",
    "            _ = plt.setp(ax.get_yticklabels(), visible=False)\n",
    "        _ = plt.scatter(1e-3 * dayrows.u, 1e-3 * dayrows.v, c=dayrows.fpol, cmap=cmap, vmin=0, vmax=1)\n",
    "        _ = plt.scatter(-1e-3 * dayrows.u, -1e-3 * dayrows.v, c=dayrows.fpol, cmap=cmap, vmin=0, vmax=1)\n",
    "        _ = plt.grid(which='both', ls='--', alpha=0.25)\n",
    "    wide(12, 3)\n",
    "    plt.xlim(-lim, lim)\n",
    "    plt.ylim(-lim, lim)\n",
    "    plt.subplots_adjust(hspace=0, wspace=0)\n",
    "    _ = plt.suptitle('%s fractional polarization vs (u, v) [Gly]' %\n",
    "                     src, y=plt.gcf().subplotpars.top, va='bottom')"
   ]
  },
  {
   "cell_type": "code",
   "execution_count": null,
   "metadata": {
    "scrolled": false
   },
   "outputs": [],
   "source": [
    "from matplotlib.legend import Legend\n",
    "for src in sorted(set(q.source)):\n",
    "    pftrend(q, src)\n",
    "    plt.show()\n",
    "    pfuv(q, src, 'jet')\n",
    "    plt.show()"
   ]
  }
 ],
 "metadata": {
  "kernelspec": {
   "display_name": "Python 2",
   "language": "python2",
   "name": "python2"
  },
  "language_info": {
   "codemirror_mode": {
    "name": "ipython",
    "version": 2
   },
   "file_extension": ".py",
   "mimetype": "text/x-python",
   "name": "python",
   "nbconvert_exporter": "python",
   "pygments_lexer": "ipython2",
   "version": "2.7.15"
  }
 },
 "nbformat": 4,
 "nbformat_minor": 2
}
