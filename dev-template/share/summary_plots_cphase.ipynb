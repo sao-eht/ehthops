{
 "cells": [
  {
   "cell_type": "markdown",
   "metadata": {},
   "source": [
    "# closure phases\n",
    "\n",
    "[L. Blackburn, Sep 2018]\n",
    "\n",
    "The purpose of this test is to check trivial and non-trivial closure phases for sanity."
   ]
  },
  {
   "cell_type": "code",
   "execution_count": null,
   "metadata": {},
   "outputs": [],
   "source": [
    "# basic import and helper functions\n",
    "import pandas as pd\n",
    "from eat.io import hops, util\n",
    "from eat.hops import util as hu\n",
    "from eat.plots import util as pu\n",
    "from collections import OrderedDict\n",
    "import itertools\n",
    "import matplotlib.pyplot as plt\n",
    "import numpy as np\n",
    "import os\n",
    "from matplotlib.ticker import MultipleLocator\n",
    "import seaborn as sns\n",
    "sns.reset_orig()\n",
    "# sns.set_palette(sns.color_palette(sns.hls_palette(16, l=.6, s=.6)))\n",
    "%matplotlib inline\n",
    "%config InlineBackend.figure_format = 'retina'\n",
    "# %config InlineBackend.figure_formats=['svg']\n",
    "import sys\n",
    "nb_stdout = sys.stdout # grab for later\n",
    "def wide(w=8, h=3): plt.setp(plt.gcf(), figwidth=w, figheight=h); \\\n",
    "    plt.tight_layout()\n",
    "def tightx(): plt.autoscale(enable=True, axis='x', tight=True)\n",
    "def multline(xs, fun=plt.axvline):\n",
    "    for x in xs: fun(x, alpha=0.25, ls='--', color='k')\n",
    "def toiter(x):\n",
    "    return(x if hasattr(x, '__iter__') else [x,])\n",
    "# pd.options.display.float_format = '{:,.6f}'.format\n",
    "from IPython.core.display import display, HTML\n",
    "display(HTML(\"<style>\"\n",
    "    + \"#notebook { padding-top:0px !important; } \" \n",
    "    + \".container { width:100% !important; } \"\n",
    "    + \".end_space { min-height:0px !important; } \"\n",
    "    + \"</style>\"))\n",
    "# Run this in Python once, it should take effect permanently\n",
    "from notebook.services.config import ConfigManager\n",
    "c = ConfigManager()\n",
    "_ = c.update('notebook', {\"CodeCell\": {\"cm_config\": {\"autoCloseBrackets\": False}}})\n",
    "import string"
   ]
  },
  {
   "cell_type": "code",
   "execution_count": null,
   "metadata": {},
   "outputs": [],
   "source": [
    "os.getcwd()"
   ]
  },
  {
   "cell_type": "code",
   "execution_count": null,
   "metadata": {},
   "outputs": [],
   "source": [
    "reload(util)\n",
    "# define and load data\n",
    "# stage = '5.+close'\n",
    "# datadir = '/data/2017-april/ce/er4test/hops-lo/%s/data/' % stage\n",
    "datadir = os.environ['DATADIR'] + '/'\n",
    "a = hops.read_alist(datadir + 'alist.v6') # alist file to make scan_no\n",
    "ll = hops.read_tlist_v6(datadir + 'alist.v6.8s.LL.close.avg')\n",
    "ll['polarization'] = 'LL'\n",
    "rr = hops.read_tlist_v6(datadir + 'alist.v6.8s.RR.close.avg')\n",
    "rr['polarization'] = 'RR'\n",
    "c = pd.concat((ll, rr), ignore_index=True)\n",
    "util.add_gmst(c)\n",
    "hu.setparity(c)\n",
    "util.fix(c)"
   ]
  },
  {
   "cell_type": "code",
   "execution_count": null,
   "metadata": {},
   "outputs": [],
   "source": [
    "util.add_scanno(a)\n",
    "tup2scanno = a.groupby(['expt_no', 'scan_id']).first().scan_no\n",
    "c = c.join(tup2scanno, on=['expt_no', 'scan_id'], how='left')"
   ]
  },
  {
   "cell_type": "code",
   "execution_count": null,
   "metadata": {},
   "outputs": [],
   "source": [
    "# expt_no boundary ticker marks vs scan\n",
    "elines = a.scan_no.sort_values().values[np.nonzero(np.diff(a.expt_no.sort_values()) > 0)[0]] + 0.5"
   ]
  },
  {
   "cell_type": "code",
   "execution_count": null,
   "metadata": {},
   "outputs": [],
   "source": [
    "def clplot(c, triangles, threshold=3):\n",
    "    d = c[(c.bis_snr > threshold) & ~c.triangle.str.contains('R') & (c.duration > 8*5)]\n",
    "    for tri in triangles:\n",
    "        rr = d[(d.polarization == 'RR') & (d.triangle==tri)]\n",
    "        ll = d[(d.polarization == 'LL') & (d.triangle==tri)]\n",
    "        hl = plt.errorbar(ll.scan_no - 0.025, ll.bis_phas, yerr=(1./ll.bis_snr)*180./np.pi,\n",
    "                          fmt='o', label=tri)\n",
    "        hr = plt.errorbar(rr.scan_no + 0.025, rr.bis_phas, yerr=(1./rr.bis_snr)*180./np.pi,\n",
    "                          fmt='x', label='_nolegend_', color=hl[0].get_color())\n",
    "    plt.gca().yaxis.grid(alpha=0.25)\n",
    "    plt.legend(ncol=3)\n",
    "    plt.title('closure phases')\n",
    "    plt.xlabel('scan number')\n",
    "    plt.ylabel('degrees')\n",
    "    pu.multline(elines)"
   ]
  },
  {
   "cell_type": "code",
   "execution_count": null,
   "metadata": {},
   "outputs": [],
   "source": [
    "clplot(c, sorted((t for t in set(c.triangle) if 'A' in t and 'X' in t and 'R' not in t)))\n",
    "wide(12, 5)"
   ]
  },
  {
   "cell_type": "code",
   "execution_count": null,
   "metadata": {},
   "outputs": [],
   "source": [
    "clplot(c, sorted((t for t in set(c.triangle) if 'S' in t and 'J' in t and 'R' not in t)))\n",
    "wide(12, 5)"
   ]
  },
  {
   "cell_type": "code",
   "execution_count": null,
   "metadata": {},
   "outputs": [],
   "source": [
    "def clplot2(c, source, triangles, threshold=3):\n",
    "    d = c[(c.bis_snr > threshold) & ~c.triangle.str.contains('R') & (c.duration > 8*5)\n",
    "          & (c.source==source) & c.triangle.isin(set(triangles))].copy()\n",
    "    t = np.hstack((d.gmst.sort_values().values, d.gmst.sort_values().values + 24.))\n",
    "    if len(t) == 0:\n",
    "        return True\n",
    "    idx = np.argmax(np.diff(t))\n",
    "    toff = np.fmod(48. - 0.5 * (t[idx] + t[1+idx]), 24.)\n",
    "    d.gmst = np.fmod(d.gmst + toff, 24.) - toff\n",
    "    for tri in triangles:\n",
    "        rr = d[(d.polarization == 'RR') & (d.triangle==tri)]\n",
    "        ll = d[(d.polarization == 'LL') & (d.triangle==tri)]\n",
    "        if(len(ll) > 0):\n",
    "            (llabel, rlabel) = (tri, '_nolegend_')\n",
    "        elif(len(rr) > 0):\n",
    "            (llabel, rlabel) = ('_nolegend_', tri)\n",
    "        else:\n",
    "            (llabel, rlabel) = ('_nolegend_', '_nolegend_')\n",
    "        hl = plt.errorbar(ll.gmst - 0.01, ll.bis_phas, yerr=(1./ll.bis_snr)*180./np.pi,\n",
    "                          fmt='o', label=llabel)\n",
    "        hr = plt.errorbar(rr.gmst + 0.01, rr.bis_phas, yerr=(1./rr.bis_snr)*180./np.pi,\n",
    "                          fmt='x', label=rlabel, color=hl[0].get_color())\n",
    "    plt.gca().yaxis.grid(alpha=0.25)\n",
    "    plt.legend(ncol=3)\n",
    "    plt.title(source + ' closure phases')\n",
    "    plt.xlabel('GMST hour')\n",
    "    plt.ylabel('degrees')"
   ]
  },
  {
   "cell_type": "code",
   "execution_count": null,
   "metadata": {
    "scrolled": false
   },
   "outputs": [],
   "source": [
    "triangles = sorted((t for t in set(c.triangle) if 'R' not in t))\n",
    "triangles = [t for t in triangles if not ('X' in t or 'J' in t)]\n",
    "import pandas as pd\n",
    "import seaborn as sns\n",
    "sns.set_palette(sns.color_palette(sns.hls_palette(len(triangles), l=.6, s=.6)))\n",
    "for src in sorted(set(c.source)):\n",
    "    ret = clplot2(c, source=src, triangles=triangles)\n",
    "    if ret:\n",
    "        continue\n",
    "    plt.ylim(-180, 180)\n",
    "    wide(12, 5)\n",
    "    plt.show()"
   ]
  },
  {
   "cell_type": "code",
   "execution_count": null,
   "metadata": {
    "scrolled": false
   },
   "outputs": [],
   "source": [
    "triangles = sorted((t for t in set(c.triangle) if 'R' not in t))\n",
    "triangles = [t for t in triangles if not ('X' in t or 'J' in t)]\n",
    "sources = ['SGRA', 'M87', '3C279', 'OJ287']\n",
    "for src in sorted(set(sources)):\n",
    "    for expt_no in sorted(set(c.expt_no)):\n",
    "        ret = clplot2(c[c.expt_no == expt_no], source=src, triangles=triangles)\n",
    "        if ret:\n",
    "            continue\n",
    "        plt.ylim(-180, 180)\n",
    "        plt.title(str(expt_no) + ' - ' + src + ' closure phases')\n",
    "        wide(12, 5)\n",
    "        plt.show()"
   ]
  }
 ],
 "metadata": {
  "kernelspec": {
   "display_name": "Python 2",
   "language": "python2",
   "name": "python2"
  },
  "language_info": {
   "codemirror_mode": {
    "name": "ipython",
    "version": 2
   },
   "file_extension": ".py",
   "mimetype": "text/x-python",
   "name": "python",
   "nbconvert_exporter": "python",
   "pygments_lexer": "ipython2",
   "version": "2.7.13"
  }
 },
 "nbformat": 4,
 "nbformat_minor": 2
}
