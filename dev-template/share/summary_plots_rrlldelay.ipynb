{
 "cells": [
  {
   "cell_type": "markdown",
   "metadata": {},
   "source": [
    "# RR-LL delay tests\n",
    "\n",
    "[L. Blackburn, Sep 2018]\n",
    "\n",
    "The purpose of this test is to check stability of RR-LL delay alignment for baselines in the array. We expect R-L delay to be stable at each antenna, thus baseline RR-LL delay should also be stable. RR-LL is a cleaner signal than the RL or LR necessary for a direct measurement of R-L at a single site because it has less relative contamination from leakage. Also because ALMA XY feeds are aligned, ALMA is able to be used as a reference by assuming R-L delay at ALMA is exactly zero."
   ]
  },
  {
   "cell_type": "code",
   "execution_count": null,
   "metadata": {},
   "outputs": [],
   "source": [
    "# basic import and helper functions\n",
    "import pandas as pd\n",
    "from eat.io import hops, util\n",
    "from eat.hops import util as hu\n",
    "from eat.plots import util as pu\n",
    "from collections import OrderedDict\n",
    "import itertools\n",
    "import matplotlib.pyplot as plt\n",
    "import numpy as np\n",
    "import os\n",
    "from matplotlib.ticker import MultipleLocator\n",
    "import seaborn as sns\n",
    "sns.reset_orig()\n",
    "# sns.set_palette(sns.color_palette(sns.hls_palette(16, l=.6, s=.6)))\n",
    "%matplotlib inline\n",
    "%config InlineBackend.figure_format = 'retina'\n",
    "# %config InlineBackend.figure_formats=['svg']\n",
    "import sys\n",
    "nb_stdout = sys.stdout # grab for later\n",
    "def wide(w=8, h=3): plt.setp(plt.gcf(), figwidth=w, figheight=h); \\\n",
    "    plt.tight_layout()\n",
    "def tightx(): plt.autoscale(enable=True, axis='x', tight=True)\n",
    "def multline(xs, fun=plt.axvline):\n",
    "    for x in xs: fun(x, alpha=0.25, ls='--', color='k')\n",
    "def toiter(x):\n",
    "    return(x if hasattr(x, '__iter__') else [x,])\n",
    "# pd.options.display.float_format = '{:,.6f}'.format\n",
    "from IPython.core.display import display, HTML\n",
    "display(HTML(\"<style>\"\n",
    "    + \"#notebook { padding-top:0px !important; } \" \n",
    "    + \".container { width:100% !important; } \"\n",
    "    + \".end_space { min-height:0px !important; } \"\n",
    "    + \"</style>\"))\n",
    "# Run this in Python once, it should take effect permanently\n",
    "from notebook.services.config import ConfigManager\n",
    "c = ConfigManager()\n",
    "_ = c.update('notebook', {\"CodeCell\": {\"cm_config\": {\"autoCloseBrackets\": False}}})\n",
    "import string"
   ]
  },
  {
   "cell_type": "code",
   "execution_count": null,
   "metadata": {},
   "outputs": [],
   "source": [
    "os.getcwd()"
   ]
  },
  {
   "cell_type": "code",
   "execution_count": null,
   "metadata": {},
   "outputs": [],
   "source": [
    "reload(util)\n",
    "# define and load data\n",
    "alistf = 'alist.v6'\n",
    "stage = '3.+adhoc'\n",
    "# datadir = '/data/2017-april/ce/er3/hops-lo/%s/data/' % stage\n",
    "datadir = os.environ['DATADIR'] + '/'\n",
    "a = util.noauto(hops.read_alist(datadir + alistf))\n",
    "util.fix(a)\n",
    "util.unwrap_mbd(a)\n",
    "util.add_days(a)\n",
    "util.add_delayerr(a)\n",
    "util.add_path(a)\n",
    "util.add_scanno(a)"
   ]
  },
  {
   "cell_type": "code",
   "execution_count": null,
   "metadata": {},
   "outputs": [],
   "source": [
    "# data filters\n",
    "a = a[(a.snr > 7.) & ~a.baseline.isin({'RS', 'SR'})].copy()"
   ]
  },
  {
   "cell_type": "code",
   "execution_count": null,
   "metadata": {},
   "outputs": [],
   "source": [
    "# expt_no boundary ticker marks vs scan\n",
    "elines = a.scan_no.sort_values().values[np.nonzero(np.diff(a.expt_no.sort_values()) > 0)[0]] + 0.5"
   ]
  },
  {
   "cell_type": "code",
   "execution_count": null,
   "metadata": {},
   "outputs": [],
   "source": [
    "# calculate the segmented statistics\n",
    "(p, stats) = hu.rrll_segmented(a, restarts=hu.restarts_2017)\n",
    "wa = [bl for bl in set(p.index.get_level_values('baseline')) if bl[0] == 'A']\n",
    "na = [bl for bl in set(p.index.get_level_values('baseline')) if bl[0] != 'A']"
   ]
  },
  {
   "cell_type": "code",
   "execution_count": null,
   "metadata": {},
   "outputs": [],
   "source": [
    "stats.loc[(slice(None),slice(None),wa),:]"
   ]
  },
  {
   "cell_type": "code",
   "execution_count": null,
   "metadata": {},
   "outputs": [],
   "source": [
    "plt.subplot(3, 1, 1)\n",
    "hu.rrllplot(p, baselines=wa, vlines=elines)\n",
    "plt.xlim(0, 1.05*plt.xlim()[1])\n",
    "plt.title('RR-LL delay after subtracting mean value [%.0f MHz]' % (p.iloc[0].ref_freq))\n",
    "plt.subplot(3, 1, 2)\n",
    "hu.rrllplot(p, baselines=na[:len(na)//2], vlines=elines)\n",
    "plt.xlim(0, 1.05*plt.xlim()[1])\n",
    "plt.subplot(3, 1, 3)\n",
    "hu.rrllplot(p, baselines=na[len(na)//2:], vlines=elines)\n",
    "plt.xlim(0, 1.05*plt.xlim()[1])\n",
    "wide(12, 10)"
   ]
  },
  {
   "cell_type": "code",
   "execution_count": null,
   "metadata": {
    "scrolled": false
   },
   "outputs": [],
   "source": [
    "# table of outliers\n",
    "outliers = (p.LLRR_offset.abs() > 0.000050) & (p.LLRR_std.abs() > 5)\n",
    "p.loc[outliers, \"expt_no scan_id source timetag baseline mbd_unwrap LLRR_offset LLRR_std\".split()]"
   ]
  },
  {
   "cell_type": "code",
   "execution_count": null,
   "metadata": {},
   "outputs": [],
   "source": [
    "# scatter plot shows balancing between systematic error and bandwidth inflation factor\n",
    "# we want to see relatively well-behaved distribution across multiple SNR\n",
    "plt.semilogx(p['LLRR_err'].values, p['LLRR_std'].values, '.')\n",
    "plt.ylim(-5, 5)\n",
    "plt.xlabel('predicted LL-RR error')\n",
    "plt.ylabel('sigmas away from mean')\n",
    "# plt.axhline(0, ls='--', color='k', alpha=0.25)\n",
    "plt.gca().yaxis.grid(ls='--', alpha=0.5)\n",
    "wide(10, 5)"
   ]
  },
  {
   "cell_type": "code",
   "execution_count": null,
   "metadata": {},
   "outputs": [],
   "source": [
    "# histogram of sigmas deviation\n",
    "from scipy.stats import norm\n",
    "lim = 8 # np.ceil(np.max(np.abs(p.LLRR_std)))\n",
    "xx = np.linspace(-lim, lim, 200)\n",
    "bins = np.linspace(-lim, lim, 161)\n",
    "for baselines in [wa, na]:\n",
    "    q = p.loc[(slice(None),slice(None),baselines),:]\n",
    "    (names, vals) = zip(*[(bl, rows.LLRR_std) for (bl, rows) in q.groupby('baseline')])\n",
    "    names2 = (name + ': %.1f' % np.sqrt(np.mean(val**2))\n",
    "              for (name, val) in zip(names, vals))\n",
    "    plt.hist(vals, bins=bins,\n",
    "        histtype='barstacked', alpha=1.0, label=names2, normed=1.0)\n",
    "    std = np.mean(q.LLRR_std**2)\n",
    "    plt.plot(xx, norm.pdf(xx, loc=0, scale=1.0), 'k--', alpha=0.5)\n",
    "    plt.xlabel('std away from mean')\n",
    "    plt.ylabel('distribution of scans')\n",
    "    plt.title('RR-LL delay offsets after subtracting mean value [%.0f MHz]' % (p.iloc[0].ref_freq))\n",
    "    plt.legend(loc='upper right')\n",
    "    plt.grid(alpha=0.25)\n",
    "    pu.tag('N = %d, std=%.1f' % (len(q), std), loc='upper left')\n",
    "    plt.xlim(-lim, lim) # only show bulk distribution\n",
    "    wide(12, 4.5)\n",
    "    plt.show()"
   ]
  },
  {
   "cell_type": "code",
   "execution_count": null,
   "metadata": {},
   "outputs": [],
   "source": []
  }
 ],
 "metadata": {
  "kernelspec": {
   "display_name": "Python 2",
   "language": "python2",
   "name": "python2"
  },
  "language_info": {
   "codemirror_mode": {
    "name": "ipython",
    "version": 2
   },
   "file_extension": ".py",
   "mimetype": "text/x-python",
   "name": "python",
   "nbconvert_exporter": "python",
   "pygments_lexer": "ipython2",
   "version": "2.7.15"
  }
 },
 "nbformat": 4,
 "nbformat_minor": 2
}
