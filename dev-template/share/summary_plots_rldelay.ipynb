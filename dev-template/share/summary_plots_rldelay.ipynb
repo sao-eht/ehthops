{
 "cells": [
  {
   "cell_type": "markdown",
   "metadata": {},
   "source": [
    "# R-L delay tests\n",
    "\n",
    "[L. Blackburn, Sep 2018]\n",
    "\n",
    "The purpose of this test is to check stability of R-L delay alignment in one antenna using a reference signal (either polarization) from another antenna. Outliers in R-L delay indicate a mis-fringe in the parallel and/or cross hand polarization product of the baselines being tested. The test is sensitive to delayed leakage in either antenna which can cause a spurious cross-hand fringe. It can also show misidentified singleband delay, e.g. from being outside the search window."
   ]
  },
  {
   "cell_type": "code",
   "execution_count": null,
   "metadata": {},
   "outputs": [],
   "source": [
    "# basic import and helper functions\n",
    "import pandas as pd\n",
    "from eat.io import hops, util\n",
    "from eat.hops import util as hu\n",
    "from eat.plots import util as pu\n",
    "from collections import OrderedDict\n",
    "import itertools\n",
    "import matplotlib.pyplot as plt\n",
    "import numpy as np\n",
    "import os\n",
    "from matplotlib.ticker import MultipleLocator\n",
    "import seaborn as sns\n",
    "sns.reset_orig()\n",
    "# sns.set_palette(sns.color_palette(sns.hls_palette(16, l=.6, s=.6)))\n",
    "%matplotlib inline\n",
    "%config InlineBackend.figure_format = 'retina'\n",
    "# %config InlineBackend.figure_formats=['svg']\n",
    "import sys\n",
    "nb_stdout = sys.stdout # grab for later\n",
    "def wide(w=8, h=3): plt.setp(plt.gcf(), figwidth=w, figheight=h); \\\n",
    "    plt.tight_layout()\n",
    "def tightx(): plt.autoscale(enable=True, axis='x', tight=True)\n",
    "def multline(xs, fun=plt.axvline):\n",
    "    for x in xs: fun(x, alpha=0.25, ls='--', color='k')\n",
    "def toiter(x):\n",
    "    return(x if hasattr(x, '__iter__') else [x,])\n",
    "# pd.options.display.float_format = '{:,.6f}'.format\n",
    "from IPython.core.display import display, HTML\n",
    "display(HTML(\"<style>\"\n",
    "    + \"#notebook { padding-top:0px !important; } \" \n",
    "    + \".container { width:100% !important; } \"\n",
    "    + \".end_space { min-height:0px !important; } \"\n",
    "    + \"</style>\"))\n",
    "# Run this in Python once, it should take effect permanently\n",
    "from notebook.services.config import ConfigManager\n",
    "c = ConfigManager()\n",
    "_ = c.update('notebook', {\"CodeCell\": {\"cm_config\": {\"autoCloseBrackets\": False}}})\n",
    "import string"
   ]
  },
  {
   "cell_type": "code",
   "execution_count": null,
   "metadata": {},
   "outputs": [],
   "source": [
    "os.getcwd()"
   ]
  },
  {
   "cell_type": "code",
   "execution_count": null,
   "metadata": {},
   "outputs": [],
   "source": [
    "# define and load data\n",
    "alistf = 'alist.v6'\n",
    "stage = '3.+adhoc'\n",
    "# datadir = '/data/2017-april/ce/er3/hops-lo/%s/data/' % stage\n",
    "datadir = os.environ['DATADIR'] + '/'\n",
    "a = util.noauto(hops.read_alist(datadir + alistf))\n",
    "util.fix(a)\n",
    "util.unwrap_mbd(a)\n",
    "util.add_days(a)\n",
    "util.add_delayerr(a)\n",
    "util.add_path(a)\n",
    "util.add_scanno(a)"
   ]
  },
  {
   "cell_type": "code",
   "execution_count": null,
   "metadata": {},
   "outputs": [],
   "source": [
    "# data filters\n",
    "a = a[(a.snr > 7.) & ~a.baseline.isin({'RS', 'SR'})].copy()"
   ]
  },
  {
   "cell_type": "code",
   "execution_count": null,
   "metadata": {},
   "outputs": [],
   "source": [
    "# expt_no boundary ticker marks vs scan\n",
    "elines = a.scan_no.sort_values().values[np.nonzero(np.diff(a.expt_no.sort_values()) > 0)[0]] + 0.5"
   ]
  },
  {
   "cell_type": "code",
   "execution_count": null,
   "metadata": {},
   "outputs": [],
   "source": [
    "# show all output in cell\n",
    "from IPython.core.interactiveshell import InteractiveShell\n",
    "InteractiveShell.ast_node_interactivity = \"all\""
   ]
  },
  {
   "cell_type": "code",
   "execution_count": null,
   "metadata": {
    "scrolled": false
   },
   "outputs": [],
   "source": [
    "for site in set(''.join(set(a.baseline))):\n",
    "    try:\n",
    "        (p, stats) = hu.rl_segmented(a, site, restarts=hu.restarts_2017)\n",
    "        hu.rlplot(p, corrected=True)\n",
    "        multline(elines)\n",
    "        outliers = ((np.abs(p.LR_offset) > 0.000200) & (np.abs(p.LR_std) > 5)\n",
    "                    & ~(p.baseline.str.contains('L')\n",
    "                    & (np.abs(np.abs(p.LR_offset) - 0.00145) < .0002)))\n",
    "        if len(outliers) > 0:\n",
    "            _ = plt.plot(p[outliers].scan_no, 1e3*p[outliers].LR_offset_wrap,\n",
    "                         'ko', ms=8, mfc='none', mew=2, zorder=-100)\n",
    "        _ = plt.title('R-L delay after subtracting mean value [%.0f MHz]' % (p.iloc[0].ref_freq))\n",
    "        _ = plt.xlim(0, 1.05*plt.xlim()[1])\n",
    "        wide(12, 5)\n",
    "        plt.show()\n",
    "        p.loc[outliers, \"expt_no scan_id source timetag baseline ref_pol mbd_unwrap LR_offset LR_offset_wrap\".split()]\n",
    "    except:\n",
    "        None"
   ]
  },
  {
   "cell_type": "code",
   "execution_count": null,
   "metadata": {},
   "outputs": [],
   "source": []
  }
 ],
 "metadata": {
  "kernelspec": {
   "display_name": "Python 2",
   "language": "python2",
   "name": "python2"
  },
  "language_info": {
   "codemirror_mode": {
    "name": "ipython",
    "version": 2
   },
   "file_extension": ".py",
   "mimetype": "text/x-python",
   "name": "python",
   "nbconvert_exporter": "python",
   "pygments_lexer": "ipython2",
   "version": "2.7.15"
  }
 },
 "nbformat": 4,
 "nbformat_minor": 2
}
